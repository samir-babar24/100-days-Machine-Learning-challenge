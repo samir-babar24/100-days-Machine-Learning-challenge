{
  "cells": [
    {
      "cell_type": "code",
      "execution_count": null,
      "metadata": {
        "id": "vw0NCQfYoP7K"
      },
      "outputs": [],
      "source": [
        "import pandas as pd\n",
        "import numpy as np\n",
        "import matplotlib.pyplot as plt\n",
        "import seaborn as sns\n",
        "from sklearn.ensemble import RandomForestClassifier\n",
        "from xgboost import XGBClassifier\n",
        "from sklearn.svm import SVC\n",
        "from sklearn.model_selection import GridSearchCV, RandomizedSearchCV\n",
        "\n",
        "from sklearn.preprocessing import LabelEncoder, OneHotEncoder, OrdinalEncoder\n",
        "from sklearn.model_selection import train_test_split, GridSearchCV\n",
        "from sklearn.metrics import classification_report, confusion_matrix, accuracy_score\n"
      ]
    },
    {
      "cell_type": "code",
      "execution_count": null,
      "metadata": {
        "id": "pZd6r9u8ofM0"
      },
      "outputs": [],
      "source": [
        "df=pd.read_excel(\"/content/Combined dataset-malocclusion.xlsx\")"
      ]
    },
    {
      "cell_type": "code",
      "execution_count": null,
      "metadata": {
        "id": "iltgdV41p1d-"
      },
      "outputs": [],
      "source": [
        "df['GENDER'] = df['GENDER'].map({'F': 0, 'M': 1})\n",
        "df['RT PATTERN'] = df['RT PATTERN'].map({'L': 0, 'W': 1, 'A': 2})\n",
        "df['LT PATTERN'] = df['LT PATTERN'].map({'L': 0, 'W': 1, 'A': 2})\n",
        "df['Class/Group'] = df['Class/Group'].map({'Group I': 0, 'Group II': 1, 'Group III': 2})"
      ]
    },
    {
      "cell_type": "code",
      "execution_count": null,
      "metadata": {
        "colab": {
          "base_uri": "https://localhost:8080/"
        },
        "id": "TRVs9mpWp3iL",
        "outputId": "410041e3-26d2-4115-8c2d-bd017846dc0f"
      },
      "outputs": [
        {
          "output_type": "stream",
          "name": "stdout",
          "text": [
            "<class 'pandas.core.frame.DataFrame'>\n",
            "RangeIndex: 604 entries, 0 to 603\n",
            "Data columns (total 7 columns):\n",
            " #   Column       Non-Null Count  Dtype \n",
            "---  ------       --------------  ----- \n",
            " 0   AGE          604 non-null    int64 \n",
            " 1   GENDER       604 non-null    int64 \n",
            " 2   RT PATTERN   604 non-null    int64 \n",
            " 3   RT FRC       604 non-null    int64 \n",
            " 4   LT PATTERN   604 non-null    int64 \n",
            " 5   LT FRC       604 non-null    object\n",
            " 6   Class/Group  604 non-null    int64 \n",
            "dtypes: int64(6), object(1)\n",
            "memory usage: 33.2+ KB\n"
          ]
        }
      ],
      "source": [
        "df.info()"
      ]
    },
    {
      "cell_type": "code",
      "execution_count": null,
      "metadata": {
        "colab": {
          "base_uri": "https://localhost:8080/"
        },
        "id": "asNMfLMAp5fp",
        "outputId": "fa88f80e-a18a-4304-d9b9-3b4aaf1dfa11"
      },
      "outputs": [
        {
          "output_type": "stream",
          "name": "stdout",
          "text": [
            "     AGE  GENDER  RT PATTERN  RT FRC  LT PATTERN  \\\n",
            "229   21       0           1       0           1   \n",
            "\n",
            "                                                LT FRC  Class/Group  \n",
            "229  ''''''''''''''''''''''''''''''''''''''''''''''...            1  \n"
          ]
        }
      ],
      "source": [
        "bad_rows = df[pd.to_numeric(df['LT FRC'], errors='coerce').isna() & df['LT FRC'].notna()]\n",
        "\n",
        "print(bad_rows)"
      ]
    },
    {
      "cell_type": "code",
      "execution_count": null,
      "metadata": {
        "colab": {
          "base_uri": "https://localhost:8080/"
        },
        "id": "5owINwzmp7S2",
        "outputId": "b9687f83-ae9e-49b8-de53-8952036d3717"
      },
      "outputs": [
        {
          "output_type": "stream",
          "name": "stdout",
          "text": [
            "[\"'''''''''''''''''''''''''''''''''''''''''''''''''''''''''''''''\"]\n"
          ]
        }
      ],
      "source": [
        "bad_values = df['LT FRC'][pd.to_numeric(df['LT FRC'], errors='coerce').isna()].unique()\n",
        "print(bad_values)"
      ]
    },
    {
      "cell_type": "code",
      "execution_count": null,
      "metadata": {
        "id": "fLDSgNCUp9Gx"
      },
      "outputs": [],
      "source": [
        "# Drop the row where 'LT FRC' is not numeric\n",
        "df = df[pd.to_numeric(df['LT FRC'], errors='coerce').notna()]\n"
      ]
    },
    {
      "cell_type": "code",
      "execution_count": null,
      "metadata": {
        "id": "vo7nOmPQqBr-"
      },
      "outputs": [],
      "source": [
        "df['LT FRC'] = pd.to_numeric(df['LT FRC'], errors='coerce')"
      ]
    },
    {
      "cell_type": "code",
      "execution_count": null,
      "metadata": {
        "colab": {
          "base_uri": "https://localhost:8080/"
        },
        "id": "Z8cDL9IdqzjR",
        "outputId": "1ac7eb8e-9555-4e2e-cdce-9c090fc084da"
      },
      "outputs": [
        {
          "output_type": "stream",
          "name": "stdout",
          "text": [
            "<class 'pandas.core.frame.DataFrame'>\n",
            "Index: 603 entries, 0 to 603\n",
            "Data columns (total 7 columns):\n",
            " #   Column       Non-Null Count  Dtype\n",
            "---  ------       --------------  -----\n",
            " 0   AGE          603 non-null    int64\n",
            " 1   GENDER       603 non-null    int64\n",
            " 2   RT PATTERN   603 non-null    int64\n",
            " 3   RT FRC       603 non-null    int64\n",
            " 4   LT PATTERN   603 non-null    int64\n",
            " 5   LT FRC       603 non-null    int64\n",
            " 6   Class/Group  603 non-null    int64\n",
            "dtypes: int64(7)\n",
            "memory usage: 37.7 KB\n"
          ]
        }
      ],
      "source": [
        "df.info()"
      ]
    },
    {
      "cell_type": "code",
      "execution_count": null,
      "metadata": {
        "id": "AFTRwl7GqNUZ"
      },
      "outputs": [],
      "source": [
        "input=df.drop(['Class/Group'],axis=1)\n",
        "output=df['Class/Group']"
      ]
    },
    {
      "cell_type": "code",
      "execution_count": null,
      "metadata": {
        "id": "jDGGqPcEqynx"
      },
      "outputs": [],
      "source": [
        "xtr,xte,ytr,yte=train_test_split(input,output,test_size=0.2,random_state=42)"
      ]
    },
    {
      "cell_type": "code",
      "execution_count": null,
      "metadata": {
        "id": "NUHC6RA7l1Fu",
        "colab": {
          "base_uri": "https://localhost:8080/",
          "height": 804
        },
        "outputId": "016820e0-6988-4587-b710-0510b3f2ac5d"
      },
      "outputs": [
        {
          "output_type": "stream",
          "name": "stdout",
          "text": [
            "MLP Accuracy: 0.48760330578512395\n"
          ]
        },
        {
          "output_type": "display_data",
          "data": {
            "text/plain": [
              "<Figure size 640x480 with 2 Axes>"
            ],
            "image/png": "[encoded data removed]"
          },
          "metadata": {}
        },
        {
          "output_type": "stream",
          "name": "stdout",
          "text": [
            "Classification Report:\n",
            "               precision    recall  f1-score   support\n",
            "\n",
            "           0       0.66      0.75      0.70        44\n",
            "           1       0.00      0.00      0.00        39\n",
            "           2       0.37      0.68      0.48        38\n",
            "\n",
            "    accuracy                           0.49       121\n",
            "   macro avg       0.34      0.48      0.39       121\n",
            "weighted avg       0.36      0.49      0.41       121\n",
            "\n"
          ]
        },
        {
          "output_type": "stream",
          "name": "stderr",
          "text": [
            "/usr/local/lib/python3.12/dist-packages/sklearn/metrics/_classification.py:1565: UndefinedMetricWarning: Precision is ill-defined and being set to 0.0 in labels with no predicted samples. Use `zero_division` parameter to control this behavior.\n",
            "  _warn_prf(average, modifier, f\"{metric.capitalize()} is\", len(result))\n",
            "/usr/local/lib/python3.12/dist-packages/sklearn/metrics/_classification.py:1565: UndefinedMetricWarning: Precision is ill-defined and being set to 0.0 in labels with no predicted samples. Use `zero_division` parameter to control this behavior.\n",
            "  _warn_prf(average, modifier, f\"{metric.capitalize()} is\", len(result))\n",
            "/usr/local/lib/python3.12/dist-packages/sklearn/metrics/_classification.py:1565: UndefinedMetricWarning: Precision is ill-defined and being set to 0.0 in labels with no predicted samples. Use `zero_division` parameter to control this behavior.\n",
            "  _warn_prf(average, modifier, f\"{metric.capitalize()} is\", len(result))\n"
          ]
        }
      ],
      "source": [
        "from sklearn.neural_network import MLPClassifier\n",
        "from sklearn.metrics import accuracy_score, classification_report, confusion_matrix\n",
        "import seaborn as sns\n",
        "import matplotlib.pyplot as plt\n",
        "\n",
        "mlp = MLPClassifier(hidden_layer_sizes=(64, 32), activation='relu', solver='adam',\n",
        "                    learning_rate_init=0.001, max_iter=500, random_state=42, early_stopping=True)\n",
        "\n",
        "mlp.fit(xtr, ytr)\n",
        "\n",
        "y_pred = mlp.predict(xte)\n",
        "\n",
        "print(\"MLP Accuracy:\", accuracy_score(yte, y_pred))\n",
        "\n",
        "cm = confusion_matrix(yte, y_pred)\n",
        "sns.heatmap(cm, annot=True, fmt=\"d\", cmap=\"Blues\")\n",
        "plt.title(\"MLP Confusion Matrix\")\n",
        "plt.xlabel(\"Predicted\")\n",
        "plt.ylabel(\"Actual\")\n",
        "plt.show()\n",
        "\n",
        "print(\"Classification Report:\\n\", classification_report(yte, y_pred))\n"
      ]
    },
    {
      "cell_type": "code",
      "source": [
        "mlp1 = MLPClassifier(max_iter=1000, random_state=42, early_stopping=True)\n",
        "\n",
        "# Grid Search parameter grid\n",
        "param_grid = {\n",
        "    \"hidden_layer_sizes\": [(32,), (64,), (64,32), (128,64)],\n",
        "    \"activation\": [\"relu\", \"tanh\"],\n",
        "    \"solver\": [\"adam\", \"sgd\"],\n",
        "    \"learning_rate_init\": [0.001, 0.01, 0.05]\n",
        "}\n",
        "\n",
        "grid = GridSearchCV(mlp1, param_grid, cv=5, scoring=\"accuracy\", n_jobs=-1, verbose=1)\n",
        "grid.fit(xtr, ytr)\n",
        "\n",
        "print(\"Best GridSearch Params:\", grid.best_params_)\n",
        "best_grid_model = grid.best_estimator_\n",
        "\n",
        "print(\"Best GridSearch Accuracy:\", grid.best_score_)"
      ],
      "metadata": {
        "colab": {
          "base_uri": "https://localhost:8080/"
        },
        "id": "-yBpeUAGE-G_",
        "outputId": "044d03fe-4666-4cb1-e620-f6b5ca177064"
      },
      "execution_count": null,
      "outputs": [
        {
          "output_type": "stream",
          "name": "stdout",
          "text": [
            "Fitting 5 folds for each of 48 candidates, totalling 240 fits\n",
            "Best GridSearch Params: {'activation': 'tanh', 'hidden_layer_sizes': (64,), 'learning_rate_init': 0.05, 'solver': 'sgd'}\n",
            "Best GridSearch Accuracy: 0.543664089347079\n"
          ]
        }
      ]
    },
    {
      "cell_type": "code",
      "source": [
        "param_dist = {\n",
        "    \"hidden_layer_sizes\": [(np.random.randint(32,128), np.random.randint(16,64)) for _ in range(10)],\n",
        "    \"activation\": [\"relu\", \"tanh\"],\n",
        "    \"solver\": [\"adam\", \"sgd\"],\n",
        "    \"learning_rate_init\": np.linspace(0.0005, 0.05, 10)\n",
        "}\n",
        "\n",
        "random_search = RandomizedSearchCV(mlp1, param_distributions=param_dist,\n",
        "                                   n_iter=20, cv=5, scoring=\"accuracy\",\n",
        "                                   n_jobs=-1, verbose=1, random_state=42)\n",
        "random_search.fit(xtr, ytr)\n",
        "\n",
        "print(\"Best RandomSearch Params:\", random_search.best_params_)\n",
        "best_random_model = random_search.best_estimator_\n",
        "\n",
        "print(\"Best RandomSearch Accuracy:\", random_search.best_score_)"
      ],
      "metadata": {
        "colab": {
          "base_uri": "https://localhost:8080/"
        },
        "id": "CCvv1HWQFXv3",
        "outputId": "28e924a2-d653-4a1b-b740-0290ecd3e488"
      },
      "execution_count": null,
      "outputs": [
        {
          "output_type": "stream",
          "name": "stdout",
          "text": [
            "Fitting 5 folds for each of 20 candidates, totalling 100 fits\n",
            "Best RandomSearch Params: {'solver': 'sgd', 'learning_rate_init': np.float64(0.0335), 'hidden_layer_sizes': (127, 34), 'activation': 'relu'}\n",
            "Best RandomSearch Accuracy: 0.545811855670103\n"
          ]
        }
      ]
    },
    {
      "cell_type": "code",
      "source": [],
      "metadata": {
        "id": "JpkeP7hxFsWZ"
      },
      "execution_count": null,
      "outputs": []
    }
  ],
  "metadata": {
    "colab": {
      "provenance": []
    },
    "kernelspec": {
      "display_name": "Python 3",
      "name": "python3"
    },
    "language_info": {
      "name": "python"
    }
  },
  "nbformat": 4,
  "nbformat_minor": 0
}
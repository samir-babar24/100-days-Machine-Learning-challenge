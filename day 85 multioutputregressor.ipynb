{
  "cells": [
    {
      "cell_type": "code",
      "execution_count": null,
      "metadata": {
        "colab": {
          "base_uri": "https://localhost:8080/"
        },
        "id": "aYiT9hsKfHbS",
        "outputId": "74a80de8-5d93-427b-ddc8-3b1614ededc2"
      },
      "outputs": [
        {
          "output_type": "stream",
          "name": "stdout",
          "text": [
            "Requirement already satisfied: pandas in /usr/local/lib/python3.12/dist-packages (2.2.2)\n",
            "Requirement already satisfied: scikit-learn in /usr/local/lib/python3.12/dist-packages (1.6.1)\n",
            "Requirement already satisfied: torch in /usr/local/lib/python3.12/dist-packages (2.8.0+cu126)\n",
            "Requirement already satisfied: transformers in /usr/local/lib/python3.12/dist-packages (4.56.2)\n",
            "Requirement already satisfied: datasets in /usr/local/lib/python3.12/dist-packages (4.0.0)\n",
            "Requirement already satisfied: numpy>=1.26.0 in /usr/local/lib/python3.12/dist-packages (from pandas) (2.0.2)\n",
            "Requirement already satisfied: python-dateutil>=2.8.2 in /usr/local/lib/python3.12/dist-packages (from pandas) (2.9.0.post0)\n",
            "Requirement already satisfied: pytz>=2020.1 in /usr/local/lib/python3.12/dist-packages (from pandas) (2025.2)\n",
            "Requirement already satisfied: tzdata>=2022.7 in /usr/local/lib/python3.12/dist-packages (from pandas) (2025.2)\n",
            "Requirement already satisfied: scipy>=1.6.0 in /usr/local/lib/python3.12/dist-packages (from scikit-learn) (1.16.2)\n",
            "Requirement already satisfied: joblib>=1.2.0 in /usr/local/lib/python3.12/dist-packages (from scikit-learn) (1.5.2)\n",
            "Requirement already satisfied: threadpoolctl>=3.1.0 in /usr/local/lib/python3.12/dist-packages (from scikit-learn) (3.6.0)\n",
            "Requirement already satisfied: filelock in /usr/local/lib/python3.12/dist-packages (from torch) (3.19.1)\n",
            "Requirement already satisfied: typing-extensions>=4.10.0 in /usr/local/lib/python3.12/dist-packages (from torch) (4.15.0)\n",
            "Requirement already satisfied: setuptools in /usr/local/lib/python3.12/dist-packages (from torch) (75.2.0)\n",
            "Requirement already satisfied: sympy>=1.13.3 in /usr/local/lib/python3.12/dist-packages (from torch) (1.13.3)\n",
            "Requirement already satisfied: networkx in /usr/local/lib/python3.12/dist-packages (from torch) (3.5)\n",
            "Requirement already satisfied: jinja2 in /usr/local/lib/python3.12/dist-packages (from torch) (3.1.6)\n",
            "Requirement already satisfied: fsspec in /usr/local/lib/python3.12/dist-packages (from torch) (2025.3.0)\n",
            "Requirement already satisfied: nvidia-cuda-nvrtc-cu12==12.6.77 in /usr/local/lib/python3.12/dist-packages (from torch) (12.6.77)\n",
            "Requirement already satisfied: nvidia-cuda-runtime-cu12==12.6.77 in /usr/local/lib/python3.12/dist-packages (from torch) (12.6.77)\n",
            "Requirement already satisfied: nvidia-cuda-cupti-cu12==12.6.80 in /usr/local/lib/python3.12/dist-packages (from torch) (12.6.80)\n",
            "Requirement already satisfied: nvidia-cudnn-cu12==9.10.2.21 in /usr/local/lib/python3.12/dist-packages (from torch) (9.10.2.21)\n",
            "Requirement already satisfied: nvidia-cublas-cu12==12.6.4.1 in /usr/local/lib/python3.12/dist-packages (from torch) (12.6.4.1)\n",
            "Requirement already satisfied: nvidia-cufft-cu12==11.3.0.4 in /usr/local/lib/python3.12/dist-packages (from torch) (11.3.0.4)\n",
            "Requirement already satisfied: nvidia-curand-cu12==10.3.7.77 in /usr/local/lib/python3.12/dist-packages (from torch) (10.3.7.77)\n",
            "Requirement already satisfied: nvidia-cusolver-cu12==11.7.1.2 in /usr/local/lib/python3.12/dist-packages (from torch) (11.7.1.2)\n",
            "Requirement already satisfied: nvidia-cusparse-cu12==12.5.4.2 in /usr/local/lib/python3.12/dist-packages (from torch) (12.5.4.2)\n",
            "Requirement already satisfied: nvidia-cusparselt-cu12==0.7.1 in /usr/local/lib/python3.12/dist-packages (from torch) (0.7.1)\n",
            "Requirement already satisfied: nvidia-nccl-cu12==2.27.3 in /usr/local/lib/python3.12/dist-packages (from torch) (2.27.3)\n",
            "Requirement already satisfied: nvidia-nvtx-cu12==12.6.77 in /usr/local/lib/python3.12/dist-packages (from torch) (12.6.77)\n",
            "Requirement already satisfied: nvidia-nvjitlink-cu12==12.6.85 in /usr/local/lib/python3.12/dist-packages (from torch) (12.6.85)\n",
            "Requirement already satisfied: nvidia-cufile-cu12==1.11.1.6 in /usr/local/lib/python3.12/dist-packages (from torch) (1.11.1.6)\n",
            "Requirement already satisfied: triton==3.4.0 in /usr/local/lib/python3.12/dist-packages (from torch) (3.4.0)\n",
            "Requirement already satisfied: huggingface-hub<1.0,>=0.34.0 in /usr/local/lib/python3.12/dist-packages (from transformers) (0.35.3)\n",
            "Requirement already satisfied: packaging>=20.0 in /usr/local/lib/python3.12/dist-packages (from transformers) (25.0)\n",
            "Requirement already satisfied: pyyaml>=5.1 in /usr/local/lib/python3.12/dist-packages (from transformers) (6.0.3)\n",
            "Requirement already satisfied: regex!=2019.12.17 in /usr/local/lib/python3.12/dist-packages (from transformers) (2024.11.6)\n",
            "Requirement already satisfied: requests in /usr/local/lib/python3.12/dist-packages (from transformers) (2.32.4)\n",
            "Requirement already satisfied: tokenizers<=0.23.0,>=0.22.0 in /usr/local/lib/python3.12/dist-packages (from transformers) (0.22.1)\n",
            "Requirement already satisfied: safetensors>=0.4.3 in /usr/local/lib/python3.12/dist-packages (from transformers) (0.6.2)\n",
            "Requirement already satisfied: tqdm>=4.27 in /usr/local/lib/python3.12/dist-packages (from transformers) (4.67.1)\n",
            "Requirement already satisfied: pyarrow>=15.0.0 in /usr/local/lib/python3.12/dist-packages (from datasets) (18.1.0)\n",
            "Requirement already satisfied: dill<0.3.9,>=0.3.0 in /usr/local/lib/python3.12/dist-packages (from datasets) (0.3.8)\n",
            "Requirement already satisfied: xxhash in /usr/local/lib/python3.12/dist-packages (from datasets) (3.5.0)\n",
            "Requirement already satisfied: multiprocess<0.70.17 in /usr/local/lib/python3.12/dist-packages (from datasets) (0.70.16)\n",
            "Requirement already satisfied: aiohttp!=4.0.0a0,!=4.0.0a1 in /usr/local/lib/python3.12/dist-packages (from fsspec[http]<=2025.3.0,>=2023.1.0->datasets) (3.12.15)\n",
            "Requirement already satisfied: hf-xet<2.0.0,>=1.1.3 in /usr/local/lib/python3.12/dist-packages (from huggingface-hub<1.0,>=0.34.0->transformers) (1.1.10)\n",
            "Requirement already satisfied: six>=1.5 in /usr/local/lib/python3.12/dist-packages (from python-dateutil>=2.8.2->pandas) (1.17.0)\n",
            "Requirement already satisfied: charset_normalizer<4,>=2 in /usr/local/lib/python3.12/dist-packages (from requests->transformers) (3.4.3)\n",
            "Requirement already satisfied: idna<4,>=2.5 in /usr/local/lib/python3.12/dist-packages (from requests->transformers) (3.10)\n",
            "Requirement already satisfied: urllib3<3,>=1.21.1 in /usr/local/lib/python3.12/dist-packages (from requests->transformers) (2.5.0)\n",
            "Requirement already satisfied: certifi>=2017.4.17 in /usr/local/lib/python3.12/dist-packages (from requests->transformers) (2025.8.3)\n",
            "Requirement already satisfied: mpmath<1.4,>=1.1.0 in /usr/local/lib/python3.12/dist-packages (from sympy>=1.13.3->torch) (1.3.0)\n",
            "Requirement already satisfied: MarkupSafe>=2.0 in /usr/local/lib/python3.12/dist-packages (from jinja2->torch) (3.0.3)\n",
            "Requirement already satisfied: aiohappyeyeballs>=2.5.0 in /usr/local/lib/python3.12/dist-packages (from aiohttp!=4.0.0a0,!=4.0.0a1->fsspec[http]<=2025.3.0,>=2023.1.0->datasets) (2.6.1)\n",
            "Requirement already satisfied: aiosignal>=1.4.0 in /usr/local/lib/python3.12/dist-packages (from aiohttp!=4.0.0a0,!=4.0.0a1->fsspec[http]<=2025.3.0,>=2023.1.0->datasets) (1.4.0)\n",
            "Requirement already satisfied: attrs>=17.3.0 in /usr/local/lib/python3.12/dist-packages (from aiohttp!=4.0.0a0,!=4.0.0a1->fsspec[http]<=2025.3.0,>=2023.1.0->datasets) (25.3.0)\n",
            "Requirement already satisfied: frozenlist>=1.1.1 in /usr/local/lib/python3.12/dist-packages (from aiohttp!=4.0.0a0,!=4.0.0a1->fsspec[http]<=2025.3.0,>=2023.1.0->datasets) (1.7.0)\n",
            "Requirement already satisfied: multidict<7.0,>=4.5 in /usr/local/lib/python3.12/dist-packages (from aiohttp!=4.0.0a0,!=4.0.0a1->fsspec[http]<=2025.3.0,>=2023.1.0->datasets) (6.6.4)\n",
            "Requirement already satisfied: propcache>=0.2.0 in /usr/local/lib/python3.12/dist-packages (from aiohttp!=4.0.0a0,!=4.0.0a1->fsspec[http]<=2025.3.0,>=2023.1.0->datasets) (0.3.2)\n",
            "Requirement already satisfied: yarl<2.0,>=1.17.0 in /usr/local/lib/python3.12/dist-packages (from aiohttp!=4.0.0a0,!=4.0.0a1->fsspec[http]<=2025.3.0,>=2023.1.0->datasets) (1.20.1)\n"
          ]
        }
      ],
      "source": [
        "pip install pandas scikit-learn torch transformers datasets\n"
      ]
    },
    {
      "cell_type": "code",
      "execution_count": null,
      "metadata": {
        "id": "4uAlIKjZf0ZI"
      },
      "outputs": [],
      "source": [
        "import pandas as pd\n",
        "import numpy as np\n",
        "\n",
        "from sklearn.model_selection import train_test_split, StratifiedKFold, GridSearchCV\n",
        "from sklearn.metrics import classification_report, confusion_matrix\n",
        "from sklearn.pipeline import Pipeline, FeatureUnion\n",
        "from sklearn.feature_extraction.text import TfidfVectorizer\n",
        "from sklearn.linear_model import LogisticRegression\n",
        "from sklearn.utils.validation import check_is_fitted\n",
        "from joblib import dump, load\n",
        "import pandas as pd\n",
        "from sklearn.model_selection import train_test_split\n",
        "from sklearn.feature_extraction.text import TfidfVectorizer\n",
        "from sklearn.multioutput import MultiOutputClassifier\n",
        "from sklearn.ensemble import RandomForestClassifier\n",
        "from sklearn.metrics import accuracy_score, classification_report\n",
        "from sklearn.pipeline import Pipeline"
      ]
    },
    {
      "cell_type": "code",
      "execution_count": null,
      "metadata": {
        "id": "Oy2JKUsBgJvU"
      },
      "outputs": [],
      "source": [
        "df=pd.read_csv(\"/content/final dataset.csv\")\n"
      ]
    },
    {
      "cell_type": "code",
      "execution_count": null,
      "metadata": {
        "colab": {
          "base_uri": "https://localhost:8080/"
        },
        "id": "538d04bf",
        "outputId": "d41b2a65-73f8-46d3-f26e-71dd1b7839d2"
      },
      "outputs": [
        {
          "output_type": "stream",
          "name": "stdout",
          "text": [
            "Requirement already satisfied: unidecode in /usr/local/lib/python3.12/dist-packages (1.4.0)\n"
          ]
        }
      ],
      "source": [
        "pip install unidecode"
      ]
    },
    {
      "cell_type": "code",
      "execution_count": null,
      "metadata": {
        "colab": {
          "base_uri": "https://localhost:8080/",
          "height": 423
        },
        "id": "e37-D4UGiGlC",
        "outputId": "c6814350-73f0-49c4-cfea-73c92fa58371"
      },
      "outputs": [
        {
          "output_type": "execute_result",
          "data": {
            "text/plain": [
              "                                                 Query  Dialect  \\\n",
              "291  बिचारा घोळ्यावर बसून पोट्ट्याईचा नाच मूटुमूटु ...  Varhadi   \n",
              "292  जाय बरं थ्या घोळीच्या टिंबाटिंबावर येक लिचोंडा...  Varhadi   \n",
              "293  त्याच्या वावरात पेरलेला सोला तीन मयन्यानंतर चा...  Varhadi   \n",
              "294    नाईतं म्हनांन तुमी ह्या वकील कुठुंन आनला ईचिभीन  Varhadi   \n",
              "295  मंग मंघानी इंधन घ्याले गेलतो तव्हा पाह्यली थे ...  Varhadi   \n",
              "..                                                 ...      ...   \n",
              "416                              मला लवकर झोपायचे हाय    Satara   \n",
              "417                                    तो कामावर गेलाय   Satara   \n",
              "418                                 मी नवीन घर घेतल य    Satara   \n",
              "419                            आजची हवा खूप चांगली हाय   Satara   \n",
              "420                       त्यांना नवीन नोकरी मिळाली या   Satara   \n",
              "\n",
              "                                     Query Real Answer  \n",
              "291  बिचारा घोड्यावर बसून मुलांचा नाच शांतपणे बघत होता  \n",
              "292       जा आणि त्या घोळातून एक लिंबाची फांदी घेऊन ये  \n",
              "293  त्याच्या शेतात पेरलेला मका तीन महिन्यांनंतर चा...  \n",
              "294  नाहितर तुम्ही विचाराल की मी हा वकील कुठून आणला...  \n",
              "295  मी इंधन तपासणार होतो मग काही वेळापूर्वीच कोण आ...  \n",
              "..                                                 ...  \n",
              "416                               मला लवकर झोपायचे आहे  \n",
              "417                                 तो कामावर गेला आहे  \n",
              "418                               मी नवीन घर घेतले आहे  \n",
              "419                              आज हवा खूप चांगली आहे  \n",
              "420                      त्यांना नवीन नोकरी मिळाली आहे  \n",
              "\n",
              "[130 rows x 3 columns]"
            ],
            "text/html": [
              "\n",
              "  <div id=\"df-82d2f06b-514a-47d1-b3e5-edcb2f940422\" class=\"colab-df-container\">\n",
              "    <div>\n",
              "<style scoped>\n",
              "    .dataframe tbody tr th:only-of-type {\n",
              "        vertical-align: middle;\n",
              "    }\n",
              "\n",
              "    .dataframe tbody tr th {\n",
              "        vertical-align: top;\n",
              "    }\n",
              "\n",
              "    .dataframe thead th {\n",
              "        text-align: right;\n",
              "    }\n",
              "</style>\n",
              "<table border=\"1\" class=\"dataframe\">\n",
              "  <thead>\n",
              "    <tr style=\"text-align: right;\">\n",
              "      <th></th>\n",
              "      <th>Query</th>\n",
              "      <th>Dialect</th>\n",
              "      <th>Query Real Answer</th>\n",
              "    </tr>\n",
              "  </thead>\n",
              "  <tbody>\n",
              "    <tr>\n",
              "      <th>291</th>\n",
              "      <td>बिचारा घोळ्यावर बसून पोट्ट्याईचा नाच मूटुमूटु ...</td>\n",
              "      <td>Varhadi</td>\n",
              "      <td>बिचारा घोड्यावर बसून मुलांचा नाच शांतपणे बघत होता</td>\n",
              "    </tr>\n",
              "    <tr>\n",
              "      <th>292</th>\n",
              "      <td>जाय बरं थ्या घोळीच्या टिंबाटिंबावर येक लिचोंडा...</td>\n",
              "      <td>Varhadi</td>\n",
              "      <td>जा आणि त्या घोळातून एक लिंबाची फांदी घेऊन ये</td>\n",
              "    </tr>\n",
              "    <tr>\n",
              "      <th>293</th>\n",
              "      <td>त्याच्या वावरात पेरलेला सोला तीन मयन्यानंतर चा...</td>\n",
              "      <td>Varhadi</td>\n",
              "      <td>त्याच्या शेतात पेरलेला मका तीन महिन्यांनंतर चा...</td>\n",
              "    </tr>\n",
              "    <tr>\n",
              "      <th>294</th>\n",
              "      <td>नाईतं म्हनांन तुमी ह्या वकील कुठुंन आनला ईचिभीन</td>\n",
              "      <td>Varhadi</td>\n",
              "      <td>नाहितर तुम्ही विचाराल की मी हा वकील कुठून आणला...</td>\n",
              "    </tr>\n",
              "    <tr>\n",
              "      <th>295</th>\n",
              "      <td>मंग मंघानी इंधन घ्याले गेलतो तव्हा पाह्यली थे ...</td>\n",
              "      <td>Varhadi</td>\n",
              "      <td>मी इंधन तपासणार होतो मग काही वेळापूर्वीच कोण आ...</td>\n",
              "    </tr>\n",
              "    <tr>\n",
              "      <th>...</th>\n",
              "      <td>...</td>\n",
              "      <td>...</td>\n",
              "      <td>...</td>\n",
              "    </tr>\n",
              "    <tr>\n",
              "      <th>416</th>\n",
              "      <td>मला लवकर झोपायचे हाय</td>\n",
              "      <td>Satara</td>\n",
              "      <td>मला लवकर झोपायचे आहे</td>\n",
              "    </tr>\n",
              "    <tr>\n",
              "      <th>417</th>\n",
              "      <td>तो कामावर गेलाय</td>\n",
              "      <td>Satara</td>\n",
              "      <td>तो कामावर गेला आहे</td>\n",
              "    </tr>\n",
              "    <tr>\n",
              "      <th>418</th>\n",
              "      <td>मी नवीन घर घेतल य</td>\n",
              "      <td>Satara</td>\n",
              "      <td>मी नवीन घर घेतले आहे</td>\n",
              "    </tr>\n",
              "    <tr>\n",
              "      <th>419</th>\n",
              "      <td>आजची हवा खूप चांगली हाय</td>\n",
              "      <td>Satara</td>\n",
              "      <td>आज हवा खूप चांगली आहे</td>\n",
              "    </tr>\n",
              "    <tr>\n",
              "      <th>420</th>\n",
              "      <td>त्यांना नवीन नोकरी मिळाली या</td>\n",
              "      <td>Satara</td>\n",
              "      <td>त्यांना नवीन नोकरी मिळाली आहे</td>\n",
              "    </tr>\n",
              "  </tbody>\n",
              "</table>\n",
              "<p>130 rows × 3 columns</p>\n",
              "</div>\n",
              "    <div class=\"colab-df-buttons\">\n",
              "\n",
              "  <div class=\"colab-df-container\">\n",
              "    <button class=\"colab-df-convert\" onclick=\"convertToInteractive('df-82d2f06b-514a-47d1-b3e5-edcb2f940422')\"\n",
              "            title=\"Convert this dataframe to an interactive table.\"\n",
              "            style=\"display:none;\">\n",
              "\n",
              "  <svg xmlns=\"http://www.w3.org/2000/svg\" height=\"24px\" viewBox=\"0 -960 960 960\">\n",
              "    <path d=\"M120-120v-720h720v720H120Zm60-500h600v-160H180v160Zm220 220h160v-160H400v160Zm0 220h160v-160H400v160ZM180-400h160v-160H180v160Zm440 0h160v-160H620v160ZM180-180h160v-160H180v160Zm440 0h160v-160H620v160Z\"/>\n",
              "  </svg>\n",
              "    </button>\n",
              "\n",
              "  <style>\n",
              "    .colab-df-container {\n",
              "      display:flex;\n",
              "      gap: 12px;\n",
              "    }\n",
              "\n",
              "    .colab-df-convert {\n",
              "      background-color: #E8F0FE;\n",
              "      border: none;\n",
              "      border-radius: 50%;\n",
              "      cursor: pointer;\n",
              "      display: none;\n",
              "      fill: #1967D2;\n",
              "      height: 32px;\n",
              "      padding: 0 0 0 0;\n",
              "      width: 32px;\n",
              "    }\n",
              "\n",
              "    .colab-df-convert:hover {\n",
              "      background-color: #E2EBFA;\n",
              "      box-shadow: 0px 1px 2px rgba(60, 64, 67, 0.3), 0px 1px 3px 1px rgba(60, 64, 67, 0.15);\n",
              "      fill: #174EA6;\n",
              "    }\n",
              "\n",
              "    .colab-df-buttons div {\n",
              "      margin-bottom: 4px;\n",
              "    }\n",
              "\n",
              "    [theme=dark] .colab-df-convert {\n",
              "      background-color: #3B4455;\n",
              "      fill: #D2E3FC;\n",
              "    }\n",
              "\n",
              "    [theme=dark] .colab-df-convert:hover {\n",
              "      background-color: #434B5C;\n",
              "      box-shadow: 0px 1px 3px 1px rgba(0, 0, 0, 0.15);\n",
              "      filter: drop-shadow(0px 1px 2px rgba(0, 0, 0, 0.3));\n",
              "      fill: #FFFFFF;\n",
              "    }\n",
              "  </style>\n",
              "\n",
              "    <script>\n",
              "      const buttonEl =\n",
              "        document.querySelector('#df-82d2f06b-514a-47d1-b3e5-edcb2f940422 button.colab-df-convert');\n",
              "      buttonEl.style.display =\n",
              "        google.colab.kernel.accessAllowed ? 'block' : 'none';\n",
              "\n",
              "      async function convertToInteractive(key) {\n",
              "        const element = document.querySelector('#df-82d2f06b-514a-47d1-b3e5-edcb2f940422');\n",
              "        const dataTable =\n",
              "          await google.colab.kernel.invokeFunction('convertToInteractive',\n",
              "                                                    [key], {});\n",
              "        if (!dataTable) return;\n",
              "\n",
              "        const docLinkHtml = 'Like what you see? Visit the ' +\n",
              "          '<a target=\"_blank\" href=https://colab.research.google.com/notebooks/data_table.ipynb>data table notebook</a>'\n",
              "          + ' to learn more about interactive tables.';\n",
              "        element.innerHTML = '';\n",
              "        dataTable['output_type'] = 'display_data';\n",
              "        await google.colab.output.renderOutput(dataTable, element);\n",
              "        const docLink = document.createElement('div');\n",
              "        docLink.innerHTML = docLinkHtml;\n",
              "        element.appendChild(docLink);\n",
              "      }\n",
              "    </script>\n",
              "  </div>\n",
              "\n",
              "\n",
              "    <div id=\"df-22a6f232-a591-416b-b981-ca8c94307386\">\n",
              "      <button class=\"colab-df-quickchart\" onclick=\"quickchart('df-22a6f232-a591-416b-b981-ca8c94307386')\"\n",
              "                title=\"Suggest charts\"\n",
              "                style=\"display:none;\">\n",
              "\n",
              "<svg xmlns=\"http://www.w3.org/2000/svg\" height=\"24px\"viewBox=\"0 0 24 24\"\n",
              "     width=\"24px\">\n",
              "    <g>\n",
              "        <path d=\"M19 3H5c-1.1 0-2 .9-2 2v14c0 1.1.9 2 2 2h14c1.1 0 2-.9 2-2V5c0-1.1-.9-2-2-2zM9 17H7v-7h2v7zm4 0h-2V7h2v10zm4 0h-2v-4h2v4z\"/>\n",
              "    </g>\n",
              "</svg>\n",
              "      </button>\n",
              "\n",
              "<style>\n",
              "  .colab-df-quickchart {\n",
              "      --bg-color: #E8F0FE;\n",
              "      --fill-color: #1967D2;\n",
              "      --hover-bg-color: #E2EBFA;\n",
              "      --hover-fill-color: #174EA6;\n",
              "      --disabled-fill-color: #AAA;\n",
              "      --disabled-bg-color: #DDD;\n",
              "  }\n",
              "\n",
              "  [theme=dark] .colab-df-quickchart {\n",
              "      --bg-color: #3B4455;\n",
              "      --fill-color: #D2E3FC;\n",
              "      --hover-bg-color: #434B5C;\n",
              "      --hover-fill-color: #FFFFFF;\n",
              "      --disabled-bg-color: #3B4455;\n",
              "      --disabled-fill-color: #666;\n",
              "  }\n",
              "\n",
              "  .colab-df-quickchart {\n",
              "    background-color: var(--bg-color);\n",
              "    border: none;\n",
              "    border-radius: 50%;\n",
              "    cursor: pointer;\n",
              "    display: none;\n",
              "    fill: var(--fill-color);\n",
              "    height: 32px;\n",
              "    padding: 0;\n",
              "    width: 32px;\n",
              "  }\n",
              "\n",
              "  .colab-df-quickchart:hover {\n",
              "    background-color: var(--hover-bg-color);\n",
              "    box-shadow: 0 1px 2px rgba(60, 64, 67, 0.3), 0 1px 3px 1px rgba(60, 64, 67, 0.15);\n",
              "    fill: var(--button-hover-fill-color);\n",
              "  }\n",
              "\n",
              "  .colab-df-quickchart-complete:disabled,\n",
              "  .colab-df-quickchart-complete:disabled:hover {\n",
              "    background-color: var(--disabled-bg-color);\n",
              "    fill: var(--disabled-fill-color);\n",
              "    box-shadow: none;\n",
              "  }\n",
              "\n",
              "  .colab-df-spinner {\n",
              "    border: 2px solid var(--fill-color);\n",
              "    border-color: transparent;\n",
              "    border-bottom-color: var(--fill-color);\n",
              "    animation:\n",
              "      spin 1s steps(1) infinite;\n",
              "  }\n",
              "\n",
              "  @keyframes spin {\n",
              "    0% {\n",
              "      border-color: transparent;\n",
              "      border-bottom-color: var(--fill-color);\n",
              "      border-left-color: var(--fill-color);\n",
              "    }\n",
              "    20% {\n",
              "      border-color: transparent;\n",
              "      border-left-color: var(--fill-color);\n",
              "      border-top-color: var(--fill-color);\n",
              "    }\n",
              "    30% {\n",
              "      border-color: transparent;\n",
              "      border-left-color: var(--fill-color);\n",
              "      border-top-color: var(--fill-color);\n",
              "      border-right-color: var(--fill-color);\n",
              "    }\n",
              "    40% {\n",
              "      border-color: transparent;\n",
              "      border-right-color: var(--fill-color);\n",
              "      border-top-color: var(--fill-color);\n",
              "    }\n",
              "    60% {\n",
              "      border-color: transparent;\n",
              "      border-right-color: var(--fill-color);\n",
              "    }\n",
              "    80% {\n",
              "      border-color: transparent;\n",
              "      border-right-color: var(--fill-color);\n",
              "      border-bottom-color: var(--fill-color);\n",
              "    }\n",
              "    90% {\n",
              "      border-color: transparent;\n",
              "      border-bottom-color: var(--fill-color);\n",
              "    }\n",
              "  }\n",
              "</style>\n",
              "\n",
              "      <script>\n",
              "        async function quickchart(key) {\n",
              "          const quickchartButtonEl =\n",
              "            document.querySelector('#' + key + ' button');\n",
              "          quickchartButtonEl.disabled = true;  // To prevent multiple clicks.\n",
              "          quickchartButtonEl.classList.add('colab-df-spinner');\n",
              "          try {\n",
              "            const charts = await google.colab.kernel.invokeFunction(\n",
              "                'suggestCharts', [key], {});\n",
              "          } catch (error) {\n",
              "            console.error('Error during call to suggestCharts:', error);\n",
              "          }\n",
              "          quickchartButtonEl.classList.remove('colab-df-spinner');\n",
              "          quickchartButtonEl.classList.add('colab-df-quickchart-complete');\n",
              "        }\n",
              "        (() => {\n",
              "          let quickchartButtonEl =\n",
              "            document.querySelector('#df-22a6f232-a591-416b-b981-ca8c94307386 button');\n",
              "          quickchartButtonEl.style.display =\n",
              "            google.colab.kernel.accessAllowed ? 'block' : 'none';\n",
              "        })();\n",
              "      </script>\n",
              "    </div>\n",
              "\n",
              "    </div>\n",
              "  </div>\n"
            ],
            "application/vnd.google.colaboratory.intrinsic+json": {
              "type": "dataframe",
              "summary": "{\n  \"name\": \"df\",\n  \"rows\": 130,\n  \"fields\": [\n    {\n      \"column\": \"Query\",\n      \"properties\": {\n        \"dtype\": \"string\",\n        \"num_unique_values\": 130,\n        \"samples\": [\n          \"\\u0906\\u091c \\u092a\\u093e\\u0930\\u094d\\u091f\\u0940 \\u0906\\u0939\\u0947\",\n          \"\\u092e\\u093e\\u091d\\u093e \\u092e\\u093f\\u0924\\u094d\\u0930\\u093e\\u091a\\u0902 \\u0939\\u0947 \\u092c\\u093f\\u0930\\u093e\\u0921 \\u0906\\u0939\\u0947\",\n          \"\\u0906\\u0924\\u093e \\u092f\\u0947\\u091a\\u094d\\u092f\\u093e\\u0924 \\u0928 \\u092a\\u091f\\u093e\\u091c\\u094b\\u0917\\u0924\\u0902 \\u0915\\u093e\\u092f \\u0939\\u093e\\u092f\\u0947\"\n        ],\n        \"semantic_type\": \"\",\n        \"description\": \"\"\n      }\n    },\n    {\n      \"column\": \"Dialect\",\n      \"properties\": {\n        \"dtype\": \"category\",\n        \"num_unique_values\": 2,\n        \"samples\": [\n          \"Satara\",\n          \"Varhadi\"\n        ],\n        \"semantic_type\": \"\",\n        \"description\": \"\"\n      }\n    },\n    {\n      \"column\": \"Query Real Answer\",\n      \"properties\": {\n        \"dtype\": \"string\",\n        \"num_unique_values\": 129,\n        \"samples\": [\n          \"\\u092e\\u093e\\u091d\\u094d\\u092f\\u093e \\u0924\\u093e\\u091f\\u093e\\u0924 \\u091c\\u0947\\u0935\\u0923 \\u0935\\u093e\\u0922\",\n          \"\\u091c\\u092e\\u093f\\u0928\\u0940\\u0924\\u0942\\u0928 \\u092a\\u093e\\u0923\\u0940 \\u092c\\u093e\\u0939\\u0947\\u0930 \\u092f\\u0947\\u0923\\u094d\\u092f\\u093e\\u091a\\u0940 \\u091c\\u093e\\u0917\\u093e\"\n        ],\n        \"semantic_type\": \"\",\n        \"description\": \"\"\n      }\n    }\n  ]\n}"
            }
          },
          "metadata": {},
          "execution_count": 8
        }
      ],
      "source": [
        "df.tail(130)"
      ]
    },
    {
      "cell_type": "code",
      "execution_count": null,
      "metadata": {
        "colab": {
          "base_uri": "https://localhost:8080/"
        },
        "id": "seqvHboRir1Y",
        "outputId": "169403d0-3ca4-4f35-f97a-357745a34f27"
      },
      "outputs": [
        {
          "output_type": "stream",
          "name": "stdout",
          "text": [
            "<class 'pandas.core.frame.DataFrame'>\n",
            "RangeIndex: 421 entries, 0 to 420\n",
            "Data columns (total 3 columns):\n",
            " #   Column             Non-Null Count  Dtype \n",
            "---  ------             --------------  ----- \n",
            " 0   Query              421 non-null    object\n",
            " 1   Dialect            421 non-null    object\n",
            " 2   Query Real Answer  421 non-null    object\n",
            "dtypes: object(3)\n",
            "memory usage: 10.0+ KB\n"
          ]
        }
      ],
      "source": [
        "df.info()"
      ]
    },
    {
      "cell_type": "code",
      "execution_count": null,
      "metadata": {
        "id": "IB2AxAwpi2Dj"
      },
      "outputs": [],
      "source": [
        "df['Dialect']=df['Dialect'].fillna('Ahirani')"
      ]
    },
    {
      "cell_type": "code",
      "execution_count": null,
      "metadata": {
        "colab": {
          "base_uri": "https://localhost:8080/"
        },
        "id": "jdgWhRdwjLbj",
        "outputId": "f5d83346-e9e4-4944-8fae-0f100fbf4ac2"
      },
      "outputs": [
        {
          "output_type": "execute_result",
          "data": {
            "text/plain": [
              "array(['Ahirani', 'konkani', 'Varhadi', 'Satara'], dtype=object)"
            ]
          },
          "metadata": {},
          "execution_count": 13
        }
      ],
      "source": [
        "df['Dialect'].unique()"
      ]
    },
    {
      "cell_type": "code",
      "execution_count": null,
      "metadata": {
        "colab": {
          "base_uri": "https://localhost:8080/"
        },
        "id": "9dRXAkL3jvJD",
        "outputId": "40923909-0b83-4ef2-a502-3183f97a617e"
      },
      "outputs": [
        {
          "output_type": "stream",
          "name": "stdout",
          "text": [
            "<class 'pandas.core.frame.DataFrame'>\n",
            "RangeIndex: 421 entries, 0 to 420\n",
            "Data columns (total 3 columns):\n",
            " #   Column             Non-Null Count  Dtype \n",
            "---  ------             --------------  ----- \n",
            " 0   Query              421 non-null    object\n",
            " 1   Dialect            421 non-null    object\n",
            " 2   Query Real Answer  421 non-null    object\n",
            "dtypes: object(3)\n",
            "memory usage: 10.0+ KB\n"
          ]
        }
      ],
      "source": [
        "df.info()"
      ]
    },
    {
      "cell_type": "code",
      "execution_count": null,
      "metadata": {
        "colab": {
          "base_uri": "https://localhost:8080/"
        },
        "id": "OmdDTELElfGb",
        "outputId": "da27dde4-3308-4198-cfde-65c91970615d"
      },
      "outputs": [
        {
          "output_type": "execute_result",
          "data": {
            "text/plain": [
              "Index(['Query', 'Dialect', 'Query Real Answer'], dtype='object')"
            ]
          },
          "metadata": {},
          "execution_count": 15
        }
      ],
      "source": [
        "df.columns"
      ]
    },
    {
      "cell_type": "code",
      "execution_count": null,
      "metadata": {
        "colab": {
          "base_uri": "https://localhost:8080/"
        },
        "id": "T5kCVgTJj_rS",
        "outputId": "e798c4ab-304f-4901-f66a-79457f4de4a1"
      },
      "outputs": [
        {
          "output_type": "stream",
          "name": "stdout",
          "text": [
            "X shape: (421,)\n",
            "y shape: (421, 2)\n"
          ]
        }
      ],
      "source": [
        "# Features: 'query' (text)\n",
        "X = df['Query']\n",
        "\n",
        "# Targets: both categorical columns\n",
        "y = df[['Dialect', 'Query Real Answer']]\n",
        "\n",
        "# Quick check\n",
        "print(\"X shape:\", X.shape)\n",
        "print(\"y shape:\", y.shape)"
      ]
    },
    {
      "cell_type": "code",
      "execution_count": null,
      "metadata": {
        "colab": {
          "base_uri": "https://localhost:8080/"
        },
        "id": "QhwYQ-Zxlpa-",
        "outputId": "3fb20d43-9ec1-4621-ca9b-c8e9db7e9149"
      },
      "outputs": [
        {
          "output_type": "stream",
          "name": "stdout",
          "text": [
            "Train size: 336\n",
            "Test size: 85\n"
          ]
        }
      ],
      "source": [
        "f\n",
        "# Split: 80% train, 20% test\n",
        "X_train, X_test, y_train, y_test = train_test_split(X, y, test_size=0.2, random_state=42)\n",
        "\n",
        "# Check sizes\n",
        "print(\"Train size:\", X_train.shape[0])\n",
        "print(\"Test size:\", X_test.shape[0])"
      ]
    },
    {
      "cell_type": "code",
      "execution_count": null,
      "metadata": {
        "colab": {
          "base_uri": "https://localhost:8080/"
        },
        "id": "ZNZcVvDhmDeF",
        "outputId": "4413a151-1a47-4e10-cf70-b69289b642f0"
      },
      "outputs": [
        {
          "output_type": "stream",
          "name": "stdout",
          "text": [
            "Model trained successfully!\n"
          ]
        }
      ],
      "source": [
        "# Pipeline: Text to numbers -> Multi-output classifier\n",
        "model = Pipeline([\n",
        "    ('vectorizer', TfidfVectorizer()),  # Handles text in 'query'\n",
        "    ('classifier', MultiOutputClassifier(RandomForestClassifier(n_estimators=100, random_state=42)))\n",
        "])\n",
        "\n",
        "# Train on train data\n",
        "model.fit(X_train, y_train)\n",
        "\n",
        "print(\"Model trained successfully!\")"
      ]
    },
    {
      "cell_type": "code",
      "execution_count": null,
      "metadata": {
        "colab": {
          "base_uri": "https://localhost:8080/",
          "height": 458
        },
        "id": "VOyStoZdmYX_",
        "outputId": "3a1f7bf2-99d6-4a08-dab2-0c1a9b0f52ac"
      },
      "outputs": [
        {
          "output_type": "execute_result",
          "data": {
            "text/plain": [
              "131                       देवाक लागीं म्हाका संभाळ करता.\n",
              "31                                  रातोरात देव कसा झाया\n",
              "84                   सग्ळी जागावर तात्या हजर र्हायना... \n",
              "289                     माह्या त माह्यावरच इसवास नाई बसे\n",
              "408                                    आम्ही एकत्र जेवतो\n",
              "                             ...                        \n",
              "71     बबन्या: हाई काय ई राह्यनु हार लीसन! घ्या वं बह...\n",
              "106    दुपारी जेवणानं पहिले खाऊन मी थोडी विश्रांती घेतली\n",
              "270    मंगूभौ म्हनून वाज देल्ला पन ह्या शटर खोलाले तय...\n",
              "348                             फकड्या गावच्या चौकात आहे\n",
              "102                           कर्ज डोकावर बठी हासत ऱ्हास\n",
              "Name: Query, Length: 336, dtype: object"
            ],
            "text/html": [
              "<div>\n",
              "<style scoped>\n",
              "    .dataframe tbody tr th:only-of-type {\n",
              "        vertical-align: middle;\n",
              "    }\n",
              "\n",
              "    .dataframe tbody tr th {\n",
              "        vertical-align: top;\n",
              "    }\n",
              "\n",
              "    .dataframe thead th {\n",
              "        text-align: right;\n",
              "    }\n",
              "</style>\n",
              "<table border=\"1\" class=\"dataframe\">\n",
              "  <thead>\n",
              "    <tr style=\"text-align: right;\">\n",
              "      <th></th>\n",
              "      <th>Query</th>\n",
              "    </tr>\n",
              "  </thead>\n",
              "  <tbody>\n",
              "    <tr>\n",
              "      <th>131</th>\n",
              "      <td>देवाक लागीं म्हाका संभाळ करता.</td>\n",
              "    </tr>\n",
              "    <tr>\n",
              "      <th>31</th>\n",
              "      <td>रातोरात देव कसा झाया</td>\n",
              "    </tr>\n",
              "    <tr>\n",
              "      <th>84</th>\n",
              "      <td>सग्ळी जागावर तात्या हजर र्हायना...</td>\n",
              "    </tr>\n",
              "    <tr>\n",
              "      <th>289</th>\n",
              "      <td>माह्या त माह्यावरच इसवास नाई बसे</td>\n",
              "    </tr>\n",
              "    <tr>\n",
              "      <th>408</th>\n",
              "      <td>आम्ही एकत्र जेवतो</td>\n",
              "    </tr>\n",
              "    <tr>\n",
              "      <th>...</th>\n",
              "      <td>...</td>\n",
              "    </tr>\n",
              "    <tr>\n",
              "      <th>71</th>\n",
              "      <td>बबन्या: हाई काय ई राह्यनु हार लीसन! घ्या वं बह...</td>\n",
              "    </tr>\n",
              "    <tr>\n",
              "      <th>106</th>\n",
              "      <td>दुपारी जेवणानं पहिले खाऊन मी थोडी विश्रांती घेतली</td>\n",
              "    </tr>\n",
              "    <tr>\n",
              "      <th>270</th>\n",
              "      <td>मंगूभौ म्हनून वाज देल्ला पन ह्या शटर खोलाले तय...</td>\n",
              "    </tr>\n",
              "    <tr>\n",
              "      <th>348</th>\n",
              "      <td>फकड्या गावच्या चौकात आहे</td>\n",
              "    </tr>\n",
              "    <tr>\n",
              "      <th>102</th>\n",
              "      <td>कर्ज डोकावर बठी हासत ऱ्हास</td>\n",
              "    </tr>\n",
              "  </tbody>\n",
              "</table>\n",
              "<p>336 rows × 1 columns</p>\n",
              "</div><br><label><b>dtype:</b> object</label>"
            ]
          },
          "metadata": {},
          "execution_count": 14
        }
      ],
      "source": [
        "X_train"
      ]
    },
    {
      "cell_type": "code",
      "execution_count": null,
      "metadata": {
        "colab": {
          "base_uri": "https://localhost:8080/"
        },
        "id": "CfjU6NNimgFy",
        "outputId": "112d6d07-08aa-4b1a-e563-4cbd42b81ed1"
      },
      "outputs": [
        {
          "output_type": "stream",
          "name": "stdout",
          "text": [
            "Dialect accuracy: 51.76%\n",
            "Real answer accuracy: 0.00%\n",
            "\n",
            "Dialect Report:\n",
            "              precision    recall  f1-score   support\n",
            "\n",
            "     Ahirani       0.75      0.47      0.58        32\n",
            "      Satara       0.60      0.55      0.57        22\n",
            "     Varhadi       0.36      0.25      0.30        16\n",
            "     konkani       0.38      0.87      0.53        15\n",
            "\n",
            "    accuracy                           0.52        85\n",
            "   macro avg       0.52      0.53      0.49        85\n",
            "weighted avg       0.57      0.52      0.51        85\n",
            "\n",
            "\n",
            "Real Answer Report:\n",
            "                                                                                                            precision    recall  f1-score   support\n",
            "\n",
            "                                                                                                 \n",
            "रुबाबदार       0.00      0.00      0.00       0.0\n",
            "                                                                             घराच्या बाहेरील मोकळ्या जागेत       0.00      0.00      0.00       0.0\n",
            "                                                                         रात्री जागरण करू नकोस. चुपचाप झोप       0.00      0.00      0.00       1.0\n",
            "                                                                                      रात्री पश्चिम दिसली.       0.00      0.00      0.00       0.0\n",
            "                                                                                    अंधांना बाजार उभं राहा       0.00      0.00      0.00       0.0\n",
            "                                                                                  अजून किती दूर जायचं आहे?       0.00      0.00      0.00       0.0\n",
            "                                                                                 अनुभवाने मला जीवन दाखवले.       0.00      0.00      0.00       1.0\n",
            "                                                                     अशी भीती वाटते की तिचं डोकं फिरतंय...       0.00      0.00      0.00       1.0\n",
            "                                                                          अहो बहिणींनो! मला माहिती आहे ना!       0.00      0.00      0.00       1.0\n",
            "                                                             आई, आई करू, आई साखरेच्या पोत्यासारखी गोड आहे.       0.00      0.00      0.00       0.0\n",
            "                                                                                 आई-वडीलानी तुझे जन्म दिलं       0.00      0.00      0.00       1.0\n",
            "                                                                  आज आमच्या मेंढीने एका पिल्लाला जन्म दिला       0.00      0.00      0.00       1.0\n",
            "                                                                                           आज खूप थंडी आहे       0.00      0.00      0.00       0.0\n",
            "                                                                                          आज पाऊस पडेल का?       0.00      0.00      0.00       0.0\n",
            "                                                                                     आज हवा खूप चांगली आहे       0.00      0.00      0.00       1.0\n",
            "                                                                                    आजचा दिवस खूप उष्ण आहे       0.00      0.00      0.00       0.0\n",
            "                                                                                   आजार खूपच कमी झाले आहेत       0.00      0.00      0.00       1.0\n",
            "                                              आता मात्र बबनला सोंगाची काळजीपासून सुटका मिळाल्यासारखं वाटलं       0.00      0.00      0.00       0.0\n",
            "                                                                             आता ही दोन्ही मुलं कुठे गेली?       0.00      0.00      0.00       0.0\n",
            "                                                                    आमच्या घरी येऊन माझ्या बायकोचा हात बघा       0.00      0.00      0.00       1.0\n",
            "                                                                               आमच्या शेतात गहू पेरले आहेत       0.00      0.00      0.00       1.0\n",
            "                                             उकाड्याच्या उन्हात घरातील कामं करताना सगळे पसीने पिळू लागतात.       0.00      0.00      0.00       1.0\n",
            "                                                           उद्या पुन्हा भेटू याच वेळेला, जेवण-खावण झाल्याव       0.00      0.00      0.00       0.0\n",
            "                                                                                            एक कणीस दिसले.       0.00      0.00      0.00       0.0\n",
            "                                                                                       एका हातात नारळ दिला       0.00      0.00      0.00       0.0\n",
            "                                         एखाद्या व्यक्तीच्या लग्नाचा वेळी त्याची गावातून मिरवणूक होणार आहे       0.00      0.00      0.00       0.0\n",
            "                                                                                               कप आणून दे.       0.00      0.00      0.00       0.0\n",
            "                                                            का हे बाई? नवरा ने टाट गाळून दृष्टदान केला का?       0.00      0.00      0.00       0.0\n",
            "                                                                                   कावळा काव-काव करत होता.       0.00      0.00      0.00       1.0\n",
            "                                                                          कुठे जाई हा 'सुख्या' येणं पारवर?       0.00      0.00      0.00       1.0\n",
            "                                                                        गणपतीच्या सणादरम्यान बाहेर जाऊ नका       0.00      0.00      0.00       1.0\n",
            "                                                  गहू (पिक) फिरत-फिरत येते. / गव्हाचे पेरणे-वाटप चालू आहे.       0.00      0.00      0.00       0.0\n",
            "                                                                            गायीला खायला गवत किंवा चारा दे       0.00      0.00      0.00       1.0\n",
            "                                                  गाव रात्री शांत असतं; मार्गावर वस्तू ठामपणे उभ्या असतात.       0.00      0.00      0.00       0.0\n",
            "                                                                      गावात आज ढोल-ताशांचा कार्यक्रम झाला.       0.00      0.00      0.00       1.0\n",
            "                                                       गावात तात्या (वडिल) याशिवाय पान (परंपरा) हलत नाहीत.       0.00      0.00      0.00       1.0\n",
            "                                                                गुपचूप भाजीमध्ये/सारणात भरपूर मीठ टाकलं...       0.00      0.00      0.00       0.0\n",
            "                                            घरातली पोर उघडी राहिली तरी चालतील पण व्याहिणीला साडी नेसवायची.       0.00      0.00      0.00       1.0\n",
            "                                                              घरी एक म्हातारा माणूस आहे तो तुम्हाला सांगेल       0.00      0.00      0.00       1.0\n",
            "                                                                                  घरी म्हातारा आईवडील आहेत       0.00      0.00      0.00       0.0\n",
            "                                                                                   चौकात भुकेले लोक तडपतात       0.00      0.00      0.00       0.0\n",
            "                                                                                                      जातो       0.00      0.00      0.00       1.0\n",
            "                                                                                             जातो मी आत्ता       0.00      0.00      0.00       1.0\n",
            "                                                              जावळाने निखळून सोडलं म्हणून डोक्यावर पडर घे!       0.00      0.00      0.00       1.0\n",
            "                                                          जीवनात साधेपणा आहे; पण त्याचा काही गर्वच नाही...       0.00      0.00      0.00       1.0\n",
            "                                                                                    झुमके स्वच्छ करून ठेव.       0.00      0.00      0.00       1.0\n",
            "                                                                         झोपेतूनच डोळे किलकिले करून पाहिले       0.00      0.00      0.00       1.0\n",
            "                                                                     ठीक आहे मग भाऊजी तुम्ही चहा घ्याल का?       0.00      0.00      0.00       1.0\n",
            "                                                                        डोक्यावर झिटका घेतल्यास वाडे आणतात       0.00      0.00      0.00       1.0\n",
            "                                                                             ताकद असल्याने तो यशस्वी झाला.       0.00      0.00      0.00       1.0\n",
            "                                                                 तात्यांना शेतात जायची कधीच पाळी आली नाही.       0.00      0.00      0.00       1.0\n",
            "                                                      तात्याला साळ (आदर) करणं द्यायला ग्रामस्थ तयार नाहीत.       0.00      0.00      0.00       0.0\n",
            "                                                                तिला जास्त वेळ लागतोय वरवरचे साज बांधायला!       0.00      0.00      0.00       0.0\n",
            "                                                                                       ती रोज व्यायाम करते       0.00      0.00      0.00       0.0\n",
            "                                                     ती वाट खूप कठीण आहे, पण हिम्मत न सोडता हसत चालत जा...       0.00      0.00      0.00       1.0\n",
            "                                                                                 तुमची मुलगीही चांगली आहे.       0.00      0.00      0.00       0.0\n",
            "                                                          तुमच्या मुलीला तुमच्यासोबत डांबरटवाडीला घेऊन या.       0.00      0.00      0.00       0.0\n",
            "तुमच्या मोबाइलवर जर शंभर चॅट्स झाले असतील, त्यात सत्तर ते ऐंशी टक्के चॅट्स तुमच्यासाठी हवस्ये/आवडीचे असतात       0.00      0.00      0.00       1.0\n",
            "          तुम्ही थोडं लक्ष द्या! आपण तसे वागत नाही. ठीक आहे वागतसे पण त्या व्यवहारावर आधी विचार करून बोलता       0.00      0.00      0.00       0.0\n",
            "                                                               तुला माहित आहे ना 'धडला' म्हातारीचा स्वभाव?       0.00      0.00      0.00       0.0\n",
            "                                                                               तुला वाटतंय मी वेडा आहे का?       0.00      0.00      0.00       0.0\n",
            "                                                                              तू कसली कमाल खोटी दान करतेस!       0.00      0.00      0.00       1.0\n",
            "                                                                           तू कोणत्या कारणामुळे समोर येतो?       0.00      0.00      0.00       1.0\n",
            "                                                                 तू बळकटपणे उभं राहिलंत म्हणून कल्याण आहे!       0.00      0.00      0.00       1.0\n",
            "                                               ते दोघेही खूप कष्ट करतात\" किंवा \"ते दोघेही खूप मेहनत करतात.       0.00      0.00      0.00       0.0\n",
            "                                                                                            तो आजारी झाला.       0.00      0.00      0.00       1.0\n",
            "                                                                                   तो एक चांगला खेळाडू आहे       0.00      0.00      0.00       1.0\n",
            "                                                                                        तो कामावर गेला आहे       0.00      0.00      0.00       1.0\n",
            "                                                  तो घराकडे निघत असताना एका बाभळीच्या झुडपावर त्याला दिसला       0.00      0.00      0.00       1.0\n",
            "                                                              तो तिथून निघून गेला जिथून त्याने उचलले होते.       0.00      0.00      0.00       0.0\n",
            "                                                                                        तो नेहमीच हसत असतो       0.00      0.00      0.00       0.0\n",
            "                                                 त्या दिवशी मोठा साहेब सुट्टीवर असल्यामुळे सगळे मोकळे होते       0.00      0.00      0.00       0.0\n",
            "                                                                        त्या लोकांनी एकत्र येऊन उत्तर दिले       0.00      0.00      0.00       1.0\n",
            "                                        त्यांच्या लग्नाच्या दिवशी त्यांनी एक व्हिडिओ सर्वांसोबत शेअर केला.       0.00      0.00      0.00       1.0\n",
            "                                                             त्यांच्याशी बोलणं म्हणजे ना, खूप अवघड काम आहे       0.00      0.00      0.00       0.0\n",
            "                                                         त्यांना राहण्यासाठी कॉलनीत सरकारी क्वार्टर मिळाले       0.00      0.00      0.00       1.0\n",
            "                              त्यांनी वेळ येण्याची वाट पाहिली आणि तोपर्यंत दोघेही सादू बाजेवर शांतपणे बसले       0.00      0.00      0.00       1.0\n",
            "                                                                                   त्याचा अधिकार उघड झाला.       0.00      0.00      0.00       1.0\n",
            "                                                                                        त्याचा धागा तुटला.       0.00      0.00      0.00       1.0\n",
            "                                                                                  त्याचा स्वभाव चांगला आहे       0.00      0.00      0.00       0.0\n",
            "                                         त्याच्याकडून काहीतरी शिकून घे\" किंवा \"त्याच्याकडून थोडं ज्ञान घे.       0.00      0.00      0.00       0.0\n",
            "                                                                              त्याला अंगठा काढता आला नाही.       0.00      0.00      0.00       1.0\n",
            "                                                                     त्याला गुडघा दुखला आणि तो आजारी पडला.       0.00      0.00      0.00       1.0\n",
            "                                                             त्याला पितळेच्या पेल्यात पाणी दिलं पिण्यासाठी       0.00      0.00      0.00       1.0\n",
            "                                                                                      त्याला भूक लागली आहे       0.00      0.00      0.00       1.0\n",
            "                                                                                                     थोडी        0.00      0.00      0.00       0.0\n",
            "                                                                              दगडले शेंदूर लावून पूजा करता       0.00      0.00      0.00       0.0\n",
            "                                                                               दादा, मानकरी सुटी पाळली का?       0.00      0.00      0.00       1.0\n",
            "                        दीर्घ काळ तात्याचा वापर होणारा कपडा वापरला जातो; पण तो कधीच घाणलेला दाखवायला नाही.       0.00      0.00      0.00       0.0\n",
            "                                                                                      दुसरा हांडा कुठे आहे       0.00      0.00      0.00       0.0\n",
            "                                  नाहितर तुम्ही विचाराल की मी हा वकील कुठून आणला,ज्याला काहीही माहिती नाही       0.00      0.00      0.00       1.0\n",
            "                                                                                       नाही, ती कालच गेली        0.00      0.00      0.00       0.0\n",
            "                                                                              नियम पाळणे आपला कर्तव्य आहे.       0.00      0.00      0.00       0.0\n",
            "                                                                  पंगतिमधेही ताऱ्यांचा ताट लावायला शेतातस!       0.00      0.00      0.00       1.0\n",
            "                                                                                                     पणवती       0.00      0.00      0.00       1.0\n",
            "                                                                  पाटील त्यांच्या घरी किंवा वाड्यावर आहेत.       0.00      0.00      0.00       0.0\n",
            "                                                                          पाठवलेली वस्तू मला योग्य मिळाली.       0.00      0.00      0.00       0.0\n",
            "                                                                              पावसासोबत धुके डोंगरावर येते       0.00      0.00      0.00       0.0\n",
            "                                                                                    पैंजण नवे घ्यायचे आहे.       0.00      0.00      0.00       1.0\n",
            "                                                                                   फळी मला बाजारात मिळाली.       0.00      0.00      0.00       1.0\n",
            "                                          बघ बघ... तिथे नवरा विवाहावर आला आणि तुम्ही काय चावलं राहिलात का?       0.00      0.00      0.00       1.0\n",
            "                                                                      बबन्या माधवसोबत गोडगोड बोलायला लागला       0.00      0.00      0.00       1.0\n",
            "                                                                          बाजारात खूप कमकुवत  वस्तू भेटतात       0.00      0.00      0.00       1.0\n",
            "                               बाहेरून तो हसत होता, पण मन आतून खुप कुठ्याशा काहीतरी विचारात पडलेले होते...       0.00      0.00      0.00       1.0\n",
            "                                                                           बेरीज करून त्याला उत्तर मिळाले.       0.00      0.00      0.00       0.0\n",
            "                                                                              भुकेले आईवडीलाने आगारी सोडले       0.00      0.00      0.00       1.0\n",
            "                                                                                   मग त्याला द्यावंच लागलं       0.00      0.00      0.00       1.0\n",
            "                                                                                 मला एक नवीन ड्रेस हवा आहे       0.00      0.00      0.00       1.0\n",
            "                                                                              मला एका मित्राची मदत हवी आहे       0.00      0.00      0.00       0.0\n",
            "                                                                                 मला खोरं थोडं लहान वाटलं.       0.00      0.00      0.00       0.0\n",
            "                                                                              मला घोड्यांपासून भीती वाटते.       0.00      0.00      0.00       0.0\n",
            "                                                                               मला परीक्षेत खूप भीती वाटली       0.00      0.00      0.00       1.0\n",
            "                                                                               मला मधमाशी पाहून भीती वाटली       0.00      0.00      0.00       1.0\n",
            "                                                                                      मला लवकर झोपायचे आहे       0.00      0.00      0.00       1.0\n",
            "                                                                                       माकडे झाडावर चढतात.       0.00      0.00      0.00       1.0\n",
            "                                                                             माझ माझ्या आईवर खूप प्रेम आहे       0.00      0.00      0.00       1.0\n",
            "                                                                                 माझी पत्नी कापसाने विणली.       0.00      0.00      0.00       0.0\n",
            "                                                    माझ्यासाठी जे काही आहे, ते त्याचं रूप किंवा छटा आहे...       0.00      0.00      0.00       1.0\n",
            "                                                                                     मी आज शाळेत गेलो नाही       0.00      0.00      0.00       1.0\n",
            "                                                         मी आज शाळेत नावनोंदणी किंवा ॲडमिशनसाठी गेलो होतो.       0.00      0.00      0.00       0.0\n",
            "                                                                       मी आठ दिवसांनी जाईन, मला आराम मिळेल       0.00      0.00      0.00       1.0\n",
            "                                                                                     मी तुला नंतर फोन करेल       0.00      0.00      0.00       0.0\n",
            "                                                 मी बहिणीला आणि बाप्पाला जेवायला बोलावण्याचा विचार करत आहे       0.00      0.00      0.00       0.0\n",
            "                                                                                  मी मोबाईलवर गेम खेळत आहे       0.00      0.00      0.00       0.0\n",
            "                                                                                        मी लवकरच गावी येईन       0.00      0.00      0.00       0.0\n",
            "                                                                           मुलगा जास्तच हट्टीपणा करू लागला       0.00      0.00      0.00       0.0\n",
            "                                                                                        मुले पदवी घेत आहेत       0.00      0.00      0.00       1.0\n",
            "                                             म्हणजे बोकडाचे मांस १ किलोसाठी ८०० रुपये दराने विकले जात आहे.       0.00      0.00      0.00       1.0\n",
            "                                     म्हणजे सतत जड पाऊस नाही, पण हलक्या स्वरूपात पावसाची सुरूवात झाली आहे.       0.00      0.00      0.00       1.0\n",
            "                                                                                या पुस्तकाचे उपकार नव्हते.       0.00      0.00      0.00       0.0\n",
            "                                                                       याबद्दल अधिक सांगण्याची विनंती केली       0.00      0.00      0.00       0.0\n",
            "                                                                              लग्नानंतर तो निघून जाऊ लागला       0.00      0.00      0.00       0.0\n",
            "                                                लहान मुले घराच्या बाहेरील मोकळ्या जागेत खेळात व्यस्त आहेत.       0.00      0.00      0.00       1.0\n",
            "                                                                       वा रे कपटी माणूस—तू किती कपटी आहेस!       0.00      0.00      0.00       1.0\n",
            "                                                                 वा, तुझ्या कपटीपणाला तरी कसं स्थळ मिळालं?       0.00      0.00      0.00       0.0\n",
            "                                वाट काटेरी होत असते, आपण चालू असतो, पण ती वाट टोचते, काट्याकडे नेत असते...       0.00      0.00      0.00       1.0\n",
            "                                                                वास्तरदेवला कधीही इच्छा मोडण्याची सवय नाही       0.00      0.00      0.00       1.0\n",
            "                                                                        शिक्षणाने मला जीवनाचा मार्ग दाखवला       0.00      0.00      0.00       0.0\n",
            "                                                                                         शेतीची मेहनत करणे       0.00      0.00      0.00       1.0\n",
            "                                                                                 शेळीचे (goat) पिलू (baby)       0.00      0.00      0.00       1.0\n",
            "                                                सकाळी गवतावर किंवा झाडाच्या पानांवर दवाचे थेंब साचले आहेत.       0.00      0.00      0.00       1.0\n",
            "                                                                               सहजपणे विचार करून दगड लावतो       0.00      0.00      0.00       1.0\n",
            "                                                     सुशांत दुसऱ्या शहरात किंवा गावात शिक्षणासाठी गेला आहे       0.00      0.00      0.00       0.0\n",
            "                    स्वतःला सांगेल की तुम्ही का तसे वागताय? हे थोडं सोप्या पद्धतीने पहा! आपण तसा वागत नसतो       0.00      0.00      0.00       1.0\n",
            "                                                                     हा पाण्याचा नळ आहे, तो जा आणि भरून घे       0.00      0.00      0.00       1.0\n",
            "                                                                                    हा मुलगा कमी हुशार आहे       0.00      0.00      0.00       1.0\n",
            "                                                                                       हा रस्ता कुठे जातो?       0.00      0.00      0.00       1.0\n",
            "                                                            हो रे बहिणी! जावा समजल्या कि मग बसतं व्यवस्थित       0.00      0.00      0.00       1.0\n",
            "\n",
            "                                                                                                  accuracy                           0.00      85.0\n",
            "                                                                                                 macro avg       0.00      0.00      0.00      85.0\n",
            "                                                                                              weighted avg       0.00      0.00      0.00      85.0\n",
            "\n"
          ]
        },
        {
          "output_type": "stream",
          "name": "stderr",
          "text": [
            "/usr/local/lib/python3.12/dist-packages/sklearn/metrics/_classification.py:1565: UndefinedMetricWarning: Precision is ill-defined and being set to 0.0 in labels with no predicted samples. Use `zero_division` parameter to control this behavior.\n",
            "  _warn_prf(average, modifier, f\"{metric.capitalize()} is\", len(result))\n",
            "/usr/local/lib/python3.12/dist-packages/sklearn/metrics/_classification.py:1565: UndefinedMetricWarning: Recall is ill-defined and being set to 0.0 in labels with no true samples. Use `zero_division` parameter to control this behavior.\n",
            "  _warn_prf(average, modifier, f\"{metric.capitalize()} is\", len(result))\n",
            "/usr/local/lib/python3.12/dist-packages/sklearn/metrics/_classification.py:1565: UndefinedMetricWarning: Precision is ill-defined and being set to 0.0 in labels with no predicted samples. Use `zero_division` parameter to control this behavior.\n",
            "  _warn_prf(average, modifier, f\"{metric.capitalize()} is\", len(result))\n",
            "/usr/local/lib/python3.12/dist-packages/sklearn/metrics/_classification.py:1565: UndefinedMetricWarning: Recall is ill-defined and being set to 0.0 in labels with no true samples. Use `zero_division` parameter to control this behavior.\n",
            "  _warn_prf(average, modifier, f\"{metric.capitalize()} is\", len(result))\n",
            "/usr/local/lib/python3.12/dist-packages/sklearn/metrics/_classification.py:1565: UndefinedMetricWarning: Precision is ill-defined and being set to 0.0 in labels with no predicted samples. Use `zero_division` parameter to control this behavior.\n",
            "  _warn_prf(average, modifier, f\"{metric.capitalize()} is\", len(result))\n",
            "/usr/local/lib/python3.12/dist-packages/sklearn/metrics/_classification.py:1565: UndefinedMetricWarning: Recall is ill-defined and being set to 0.0 in labels with no true samples. Use `zero_division` parameter to control this behavior.\n",
            "  _warn_prf(average, modifier, f\"{metric.capitalize()} is\", len(result))\n"
          ]
        }
      ],
      "source": [
        "# Predict on test set\n",
        "y_pred = model.predict(X_test)\n",
        "\n",
        "# Accuracy for each output\n",
        "dialect_acc = accuracy_score(y_test['Dialect'], y_pred[:, 0])\n",
        "answer_acc = accuracy_score(y_test['Query Real Answer'], y_pred[:, 1])\n",
        "print(f\"Dialect accuracy: {dialect_acc * 100:.2f}%\")\n",
        "print(f\"Real answer accuracy: {answer_acc * 100:.2f}%\")\n",
        "\n",
        "# Detailed reports\n",
        "print(\"\\nDialect Report:\")\n",
        "print(classification_report(y_test['Dialect'], y_pred[:, 0]))\n",
        "print(\"\\nReal Answer Report:\")\n",
        "print(classification_report(y_test['Query Real Answer'], y_pred[:, 1]))"
      ]
    },
    {
      "cell_type": "code",
      "execution_count": null,
      "metadata": {
        "colab": {
          "base_uri": "https://localhost:8080/"
        },
        "id": "c-zW9N7Bm2uK",
        "outputId": "c9c95fed-d0db-4030-b667-9e589297979e"
      },
      "outputs": [
        {
          "output_type": "stream",
          "name": "stdout",
          "text": [
            "Enter your query: तुला लगिन व्हायेल का?\t\n",
            "\n",
            "Query: तुला लगिन व्हायेल का?\t\n",
            "Predicted Dialect: Varhadi\n",
            "Predicted Real Answer: लग्नानंतर तो निघून जाऊ लागला\n",
            "\n"
          ]
        }
      ],
      "source": [
        "# Example: Predict dialect for user-entered text\n",
        "\n",
        "# Ask user for their query\n",
        "user_query = input(\"Enter your query: \")\n",
        "\n",
        "# Convert it to pandas Series (model expects this format)\n",
        "new_queries = pd.Series([user_query])\n",
        "\n",
        "# Predict\n",
        "predictions = model.predict(new_queries)\n",
        "\n",
        "# Display result\n",
        "for query, pred in zip(new_queries, predictions):\n",
        "    print(f\"\\nQuery: {query}\")\n",
        "    print(f\"Predicted Dialect: {pred[0]}\")\n",
        "    print(f\"Predicted Real Answer: {pred[1]}\\n\")\n"
      ]
    },
    {
      "cell_type": "code",
      "execution_count": null,
      "metadata": {
        "id": "IDLAlCRnnykd"
      },
      "outputs": [],
      "source": []
    }
  ],
  "metadata": {
    "colab": {
      "provenance": []
    },
    "kernelspec": {
      "display_name": "Python 3",
      "name": "python3"
    },
    "language_info": {
      "name": "python"
    }
  },
  "nbformat": 4,
  "nbformat_minor": 0
}
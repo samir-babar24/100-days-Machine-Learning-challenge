{
  "nbformat": 4,
  "nbformat_minor": 0,
  "metadata": {
    "colab": {
      "provenance": []
    },
    "kernelspec": {
      "name": "python3",
      "display_name": "Python 3"
    },
    "language_info": {
      "name": "python"
    }
  },
  "cells": [
    {
      "cell_type": "code",
      "source": [
        "import pandas as pd\n",
        "import numpy as np\n",
        "import matplotlib.pyplot as plt\n",
        "import seaborn as sns\n",
        "from sklearn.model_selection import train_test_split\n",
        "from sklearn.ensemble import RandomForestClassifier\n",
        "from sklearn.metrics import accuracy_score,classification_report\n",
        "from sklearn.preprocessing import StandardScaler,LabelEncoder"
      ],
      "metadata": {
        "id": "xPO1f6JZWCfE"
      },
      "execution_count": 14,
      "outputs": []
    },
    {
      "cell_type": "code",
      "source": [
        "df=sns.load_dataset('iris')"
      ],
      "metadata": {
        "id": "zkwesMTkWD5T"
      },
      "execution_count": 5,
      "outputs": []
    },
    {
      "cell_type": "code",
      "source": [
        "df.head()"
      ],
      "metadata": {
        "colab": {
          "base_uri": "https://localhost:8080/",
          "height": 206
        },
        "id": "Z9-ckuP0W346",
        "outputId": "2b30bd08-98a3-4d2b-8cb4-9a92e8cb522c"
      },
      "execution_count": 7,
      "outputs": [
        {
          "output_type": "execute_result",
          "data": {
            "text/plain": [
              "   sepal_length  sepal_width  petal_length  petal_width species\n",
              "0           5.1          3.5           1.4          0.2  setosa\n",
              "1           4.9          3.0           1.4          0.2  setosa\n",
              "2           4.7          3.2           1.3          0.2  setosa\n",
              "3           4.6          3.1           1.5          0.2  setosa\n",
              "4           5.0          3.6           1.4          0.2  setosa"
            ],
            "text/html": [
              "\n",
              "  <div id=\"df-df46e764-c0da-47fd-b5c2-83a1415d4ce2\" class=\"colab-df-container\">\n",
              "    <div>\n",
              "<style scoped>\n",
              "    .dataframe tbody tr th:only-of-type {\n",
              "        vertical-align: middle;\n",
              "    }\n",
              "\n",
              "    .dataframe tbody tr th {\n",
              "        vertical-align: top;\n",
              "    }\n",
              "\n",
              "    .dataframe thead th {\n",
              "        text-align: right;\n",
              "    }\n",
              "</style>\n",
              "<table border=\"1\" class=\"dataframe\">\n",
              "  <thead>\n",
              "    <tr style=\"text-align: right;\">\n",
              "      <th></th>\n",
              "      <th>sepal_length</th>\n",
              "      <th>sepal_width</th>\n",
              "      <th>petal_length</th>\n",
              "      <th>petal_width</th>\n",
              "      <th>species</th>\n",
              "    </tr>\n",
              "  </thead>\n",
              "  <tbody>\n",
              "    <tr>\n",
              "      <th>0</th>\n",
              "      <td>5.1</td>\n",
              "      <td>3.5</td>\n",
              "      <td>1.4</td>\n",
              "      <td>0.2</td>\n",
              "      <td>setosa</td>\n",
              "    </tr>\n",
              "    <tr>\n",
              "      <th>1</th>\n",
              "      <td>4.9</td>\n",
              "      <td>3.0</td>\n",
              "      <td>1.4</td>\n",
              "      <td>0.2</td>\n",
              "      <td>setosa</td>\n",
              "    </tr>\n",
              "    <tr>\n",
              "      <th>2</th>\n",
              "      <td>4.7</td>\n",
              "      <td>3.2</td>\n",
              "      <td>1.3</td>\n",
              "      <td>0.2</td>\n",
              "      <td>setosa</td>\n",
              "    </tr>\n",
              "    <tr>\n",
              "      <th>3</th>\n",
              "      <td>4.6</td>\n",
              "      <td>3.1</td>\n",
              "      <td>1.5</td>\n",
              "      <td>0.2</td>\n",
              "      <td>setosa</td>\n",
              "    </tr>\n",
              "    <tr>\n",
              "      <th>4</th>\n",
              "      <td>5.0</td>\n",
              "      <td>3.6</td>\n",
              "      <td>1.4</td>\n",
              "      <td>0.2</td>\n",
              "      <td>setosa</td>\n",
              "    </tr>\n",
              "  </tbody>\n",
              "</table>\n",
              "</div>\n",
              "    <div class=\"colab-df-buttons\">\n",
              "\n",
              "  <div class=\"colab-df-container\">\n",
              "    <button class=\"colab-df-convert\" onclick=\"convertToInteractive('df-df46e764-c0da-47fd-b5c2-83a1415d4ce2')\"\n",
              "            title=\"Convert this dataframe to an interactive table.\"\n",
              "            style=\"display:none;\">\n",
              "\n",
              "  <svg xmlns=\"http://www.w3.org/2000/svg\" height=\"24px\" viewBox=\"0 -960 960 960\">\n",
              "    <path d=\"M120-120v-720h720v720H120Zm60-500h600v-160H180v160Zm220 220h160v-160H400v160Zm0 220h160v-160H400v160ZM180-400h160v-160H180v160Zm440 0h160v-160H620v160ZM180-180h160v-160H180v160Zm440 0h160v-160H620v160Z\"/>\n",
              "  </svg>\n",
              "    </button>\n",
              "\n",
              "  <style>\n",
              "    .colab-df-container {\n",
              "      display:flex;\n",
              "      gap: 12px;\n",
              "    }\n",
              "\n",
              "    .colab-df-convert {\n",
              "      background-color: #E8F0FE;\n",
              "      border: none;\n",
              "      border-radius: 50%;\n",
              "      cursor: pointer;\n",
              "      display: none;\n",
              "      fill: #1967D2;\n",
              "      height: 32px;\n",
              "      padding: 0 0 0 0;\n",
              "      width: 32px;\n",
              "    }\n",
              "\n",
              "    .colab-df-convert:hover {\n",
              "      background-color: #E2EBFA;\n",
              "      box-shadow: 0px 1px 2px rgba(60, 64, 67, 0.3), 0px 1px 3px 1px rgba(60, 64, 67, 0.15);\n",
              "      fill: #174EA6;\n",
              "    }\n",
              "\n",
              "    .colab-df-buttons div {\n",
              "      margin-bottom: 4px;\n",
              "    }\n",
              "\n",
              "    [theme=dark] .colab-df-convert {\n",
              "      background-color: #3B4455;\n",
              "      fill: #D2E3FC;\n",
              "    }\n",
              "\n",
              "    [theme=dark] .colab-df-convert:hover {\n",
              "      background-color: #434B5C;\n",
              "      box-shadow: 0px 1px 3px 1px rgba(0, 0, 0, 0.15);\n",
              "      filter: drop-shadow(0px 1px 2px rgba(0, 0, 0, 0.3));\n",
              "      fill: #FFFFFF;\n",
              "    }\n",
              "  </style>\n",
              "\n",
              "    <script>\n",
              "      const buttonEl =\n",
              "        document.querySelector('#df-df46e764-c0da-47fd-b5c2-83a1415d4ce2 button.colab-df-convert');\n",
              "      buttonEl.style.display =\n",
              "        google.colab.kernel.accessAllowed ? 'block' : 'none';\n",
              "\n",
              "      async function convertToInteractive(key) {\n",
              "        const element = document.querySelector('#df-df46e764-c0da-47fd-b5c2-83a1415d4ce2');\n",
              "        const dataTable =\n",
              "          await google.colab.kernel.invokeFunction('convertToInteractive',\n",
              "                                                    [key], {});\n",
              "        if (!dataTable) return;\n",
              "\n",
              "        const docLinkHtml = 'Like what you see? Visit the ' +\n",
              "          '<a target=\"_blank\" href=https://colab.research.google.com/notebooks/data_table.ipynb>data table notebook</a>'\n",
              "          + ' to learn more about interactive tables.';\n",
              "        element.innerHTML = '';\n",
              "        dataTable['output_type'] = 'display_data';\n",
              "        await google.colab.output.renderOutput(dataTable, element);\n",
              "        const docLink = document.createElement('div');\n",
              "        docLink.innerHTML = docLinkHtml;\n",
              "        element.appendChild(docLink);\n",
              "      }\n",
              "    </script>\n",
              "  </div>\n",
              "\n",
              "\n",
              "    <div id=\"df-87720464-5ec9-4cf1-befb-370e43155969\">\n",
              "      <button class=\"colab-df-quickchart\" onclick=\"quickchart('df-87720464-5ec9-4cf1-befb-370e43155969')\"\n",
              "                title=\"Suggest charts\"\n",
              "                style=\"display:none;\">\n",
              "\n",
              "<svg xmlns=\"http://www.w3.org/2000/svg\" height=\"24px\"viewBox=\"0 0 24 24\"\n",
              "     width=\"24px\">\n",
              "    <g>\n",
              "        <path d=\"M19 3H5c-1.1 0-2 .9-2 2v14c0 1.1.9 2 2 2h14c1.1 0 2-.9 2-2V5c0-1.1-.9-2-2-2zM9 17H7v-7h2v7zm4 0h-2V7h2v10zm4 0h-2v-4h2v4z\"/>\n",
              "    </g>\n",
              "</svg>\n",
              "      </button>\n",
              "\n",
              "<style>\n",
              "  .colab-df-quickchart {\n",
              "      --bg-color: #E8F0FE;\n",
              "      --fill-color: #1967D2;\n",
              "      --hover-bg-color: #E2EBFA;\n",
              "      --hover-fill-color: #174EA6;\n",
              "      --disabled-fill-color: #AAA;\n",
              "      --disabled-bg-color: #DDD;\n",
              "  }\n",
              "\n",
              "  [theme=dark] .colab-df-quickchart {\n",
              "      --bg-color: #3B4455;\n",
              "      --fill-color: #D2E3FC;\n",
              "      --hover-bg-color: #434B5C;\n",
              "      --hover-fill-color: #FFFFFF;\n",
              "      --disabled-bg-color: #3B4455;\n",
              "      --disabled-fill-color: #666;\n",
              "  }\n",
              "\n",
              "  .colab-df-quickchart {\n",
              "    background-color: var(--bg-color);\n",
              "    border: none;\n",
              "    border-radius: 50%;\n",
              "    cursor: pointer;\n",
              "    display: none;\n",
              "    fill: var(--fill-color);\n",
              "    height: 32px;\n",
              "    padding: 0;\n",
              "    width: 32px;\n",
              "  }\n",
              "\n",
              "  .colab-df-quickchart:hover {\n",
              "    background-color: var(--hover-bg-color);\n",
              "    box-shadow: 0 1px 2px rgba(60, 64, 67, 0.3), 0 1px 3px 1px rgba(60, 64, 67, 0.15);\n",
              "    fill: var(--button-hover-fill-color);\n",
              "  }\n",
              "\n",
              "  .colab-df-quickchart-complete:disabled,\n",
              "  .colab-df-quickchart-complete:disabled:hover {\n",
              "    background-color: var(--disabled-bg-color);\n",
              "    fill: var(--disabled-fill-color);\n",
              "    box-shadow: none;\n",
              "  }\n",
              "\n",
              "  .colab-df-spinner {\n",
              "    border: 2px solid var(--fill-color);\n",
              "    border-color: transparent;\n",
              "    border-bottom-color: var(--fill-color);\n",
              "    animation:\n",
              "      spin 1s steps(1) infinite;\n",
              "  }\n",
              "\n",
              "  @keyframes spin {\n",
              "    0% {\n",
              "      border-color: transparent;\n",
              "      border-bottom-color: var(--fill-color);\n",
              "      border-left-color: var(--fill-color);\n",
              "    }\n",
              "    20% {\n",
              "      border-color: transparent;\n",
              "      border-left-color: var(--fill-color);\n",
              "      border-top-color: var(--fill-color);\n",
              "    }\n",
              "    30% {\n",
              "      border-color: transparent;\n",
              "      border-left-color: var(--fill-color);\n",
              "      border-top-color: var(--fill-color);\n",
              "      border-right-color: var(--fill-color);\n",
              "    }\n",
              "    40% {\n",
              "      border-color: transparent;\n",
              "      border-right-color: var(--fill-color);\n",
              "      border-top-color: var(--fill-color);\n",
              "    }\n",
              "    60% {\n",
              "      border-color: transparent;\n",
              "      border-right-color: var(--fill-color);\n",
              "    }\n",
              "    80% {\n",
              "      border-color: transparent;\n",
              "      border-right-color: var(--fill-color);\n",
              "      border-bottom-color: var(--fill-color);\n",
              "    }\n",
              "    90% {\n",
              "      border-color: transparent;\n",
              "      border-bottom-color: var(--fill-color);\n",
              "    }\n",
              "  }\n",
              "</style>\n",
              "\n",
              "      <script>\n",
              "        async function quickchart(key) {\n",
              "          const quickchartButtonEl =\n",
              "            document.querySelector('#' + key + ' button');\n",
              "          quickchartButtonEl.disabled = true;  // To prevent multiple clicks.\n",
              "          quickchartButtonEl.classList.add('colab-df-spinner');\n",
              "          try {\n",
              "            const charts = await google.colab.kernel.invokeFunction(\n",
              "                'suggestCharts', [key], {});\n",
              "          } catch (error) {\n",
              "            console.error('Error during call to suggestCharts:', error);\n",
              "          }\n",
              "          quickchartButtonEl.classList.remove('colab-df-spinner');\n",
              "          quickchartButtonEl.classList.add('colab-df-quickchart-complete');\n",
              "        }\n",
              "        (() => {\n",
              "          let quickchartButtonEl =\n",
              "            document.querySelector('#df-87720464-5ec9-4cf1-befb-370e43155969 button');\n",
              "          quickchartButtonEl.style.display =\n",
              "            google.colab.kernel.accessAllowed ? 'block' : 'none';\n",
              "        })();\n",
              "      </script>\n",
              "    </div>\n",
              "\n",
              "    </div>\n",
              "  </div>\n"
            ],
            "application/vnd.google.colaboratory.intrinsic+json": {
              "type": "dataframe",
              "variable_name": "df",
              "summary": "{\n  \"name\": \"df\",\n  \"rows\": 150,\n  \"fields\": [\n    {\n      \"column\": \"sepal_length\",\n      \"properties\": {\n        \"dtype\": \"number\",\n        \"std\": 0.8280661279778629,\n        \"min\": 4.3,\n        \"max\": 7.9,\n        \"num_unique_values\": 35,\n        \"samples\": [\n          6.2,\n          4.5,\n          5.6\n        ],\n        \"semantic_type\": \"\",\n        \"description\": \"\"\n      }\n    },\n    {\n      \"column\": \"sepal_width\",\n      \"properties\": {\n        \"dtype\": \"number\",\n        \"std\": 0.435866284936698,\n        \"min\": 2.0,\n        \"max\": 4.4,\n        \"num_unique_values\": 23,\n        \"samples\": [\n          2.3,\n          4.0,\n          3.5\n        ],\n        \"semantic_type\": \"\",\n        \"description\": \"\"\n      }\n    },\n    {\n      \"column\": \"petal_length\",\n      \"properties\": {\n        \"dtype\": \"number\",\n        \"std\": 1.7652982332594667,\n        \"min\": 1.0,\n        \"max\": 6.9,\n        \"num_unique_values\": 43,\n        \"samples\": [\n          6.7,\n          3.8,\n          3.7\n        ],\n        \"semantic_type\": \"\",\n        \"description\": \"\"\n      }\n    },\n    {\n      \"column\": \"petal_width\",\n      \"properties\": {\n        \"dtype\": \"number\",\n        \"std\": 0.7622376689603465,\n        \"min\": 0.1,\n        \"max\": 2.5,\n        \"num_unique_values\": 22,\n        \"samples\": [\n          0.2,\n          1.2,\n          1.3\n        ],\n        \"semantic_type\": \"\",\n        \"description\": \"\"\n      }\n    },\n    {\n      \"column\": \"species\",\n      \"properties\": {\n        \"dtype\": \"category\",\n        \"num_unique_values\": 3,\n        \"samples\": [\n          \"setosa\",\n          \"versicolor\",\n          \"virginica\"\n        ],\n        \"semantic_type\": \"\",\n        \"description\": \"\"\n      }\n    }\n  ]\n}"
            }
          },
          "metadata": {},
          "execution_count": 7
        }
      ]
    },
    {
      "cell_type": "code",
      "source": [
        "df.isnull().mean()"
      ],
      "metadata": {
        "colab": {
          "base_uri": "https://localhost:8080/",
          "height": 241
        },
        "id": "gpZsKYAEW5I2",
        "outputId": "8223d019-b88e-46b1-bb50-c1c31d0ff66c"
      },
      "execution_count": 8,
      "outputs": [
        {
          "output_type": "execute_result",
          "data": {
            "text/plain": [
              "sepal_length    0.0\n",
              "sepal_width     0.0\n",
              "petal_length    0.0\n",
              "petal_width     0.0\n",
              "species         0.0\n",
              "dtype: float64"
            ],
            "text/html": [
              "<div>\n",
              "<style scoped>\n",
              "    .dataframe tbody tr th:only-of-type {\n",
              "        vertical-align: middle;\n",
              "    }\n",
              "\n",
              "    .dataframe tbody tr th {\n",
              "        vertical-align: top;\n",
              "    }\n",
              "\n",
              "    .dataframe thead th {\n",
              "        text-align: right;\n",
              "    }\n",
              "</style>\n",
              "<table border=\"1\" class=\"dataframe\">\n",
              "  <thead>\n",
              "    <tr style=\"text-align: right;\">\n",
              "      <th></th>\n",
              "      <th>0</th>\n",
              "    </tr>\n",
              "  </thead>\n",
              "  <tbody>\n",
              "    <tr>\n",
              "      <th>sepal_length</th>\n",
              "      <td>0.0</td>\n",
              "    </tr>\n",
              "    <tr>\n",
              "      <th>sepal_width</th>\n",
              "      <td>0.0</td>\n",
              "    </tr>\n",
              "    <tr>\n",
              "      <th>petal_length</th>\n",
              "      <td>0.0</td>\n",
              "    </tr>\n",
              "    <tr>\n",
              "      <th>petal_width</th>\n",
              "      <td>0.0</td>\n",
              "    </tr>\n",
              "    <tr>\n",
              "      <th>species</th>\n",
              "      <td>0.0</td>\n",
              "    </tr>\n",
              "  </tbody>\n",
              "</table>\n",
              "</div><br><label><b>dtype:</b> float64</label>"
            ]
          },
          "metadata": {},
          "execution_count": 8
        }
      ]
    },
    {
      "cell_type": "code",
      "source": [
        "x=df.drop('species',axis=1)\n",
        "y=df['species']"
      ],
      "metadata": {
        "id": "eg37YoF5W93A"
      },
      "execution_count": 10,
      "outputs": []
    },
    {
      "cell_type": "code",
      "source": [
        "sns.heatmap(x)\n",
        "plt.show()"
      ],
      "metadata": {
        "colab": {
          "base_uri": "https://localhost:8080/",
          "height": 436
        },
        "id": "Tccr_gt_XDuD",
        "outputId": "a19be732-2625-42c0-837f-60b379b1e609"
      },
      "execution_count": 11,
      "outputs": [
        {
          "output_type": "display_data",
          "data": {
            "text/plain": [
              "<Figure size 640x480 with 2 Axes>"
            ],
            "image/png": "[encoded data removed]"
          },
          "metadata": {}
        }
      ]
    },
    {
      "cell_type": "code",
      "source": [
        "xtr,xte,ytr,yte=train_test_split(x,y,test_size=0.2,random_state=30)"
      ],
      "metadata": {
        "id": "QEsOtKLaXYyI"
      },
      "execution_count": 54,
      "outputs": []
    },
    {
      "cell_type": "code",
      "source": [
        "sc=StandardScaler()\n",
        "xtr=sc.fit_transform(xtr)\n",
        "xte=sc.transform(xte)\n",
        "\n",
        "lb=LabelEncoder()\n",
        "ytr=lb.fit_transform(ytr)\n",
        "yte=lb.transform(yte)"
      ],
      "metadata": {
        "id": "T8--OiX9XlHO"
      },
      "execution_count": 55,
      "outputs": []
    },
    {
      "cell_type": "code",
      "source": [
        "ytr"
      ],
      "metadata": {
        "colab": {
          "base_uri": "https://localhost:8080/"
        },
        "id": "ihaVCf43XpCl",
        "outputId": "2f0e3901-ad50-4c3d-9b01-5f980d8911d0"
      },
      "execution_count": 56,
      "outputs": [
        {
          "output_type": "execute_result",
          "data": {
            "text/plain": [
              "array([2, 1, 2, 2, 2, 2, 1, 2, 1, 2, 2, 2, 0, 1, 2, 1, 1, 1, 1, 1, 0, 1,\n",
              "       2, 1, 0, 1, 0, 1, 1, 1, 0, 1, 0, 1, 0, 2, 2, 2, 0, 2, 1, 2, 0, 0,\n",
              "       1, 0, 2, 2, 2, 2, 0, 1, 0, 1, 1, 1, 2, 0, 1, 0, 1, 2, 1, 0, 0, 0,\n",
              "       2, 2, 0, 1, 1, 1, 0, 0, 0, 0, 2, 0, 2, 0, 0, 2, 2, 2, 0, 2, 1, 1,\n",
              "       2, 1, 1, 1, 1, 2, 0, 1, 0, 1, 0, 0, 0, 2, 1, 0, 0, 1, 2, 2, 2, 2,\n",
              "       0, 1, 2, 0, 2, 1, 2, 2, 0, 0])"
            ]
          },
          "metadata": {},
          "execution_count": 56
        }
      ]
    },
    {
      "cell_type": "code",
      "source": [
        "xtr"
      ],
      "metadata": {
        "colab": {
          "base_uri": "https://localhost:8080/"
        },
        "id": "P6Msjj0NX0tX",
        "outputId": "c878cd12-ed53-4fc8-d822-b7dce1d68add"
      },
      "execution_count": 57,
      "outputs": [
        {
          "output_type": "execute_result",
          "data": {
            "text/plain": [
              "array([[ 1.24398183,  0.06626518,  0.90646398,  1.15402546],\n",
              "       [-0.4704476 , -1.52409921, -0.06833123, -0.30788779],\n",
              "       [ 1.12152258, -0.16092973,  0.96380488,  1.15402546],\n",
              "       [ 0.26430787, -0.16092973,  0.61975951,  0.75532185],\n",
              "       [ 2.22365578, -1.06970938,  1.76657741,  1.41982787],\n",
              "       [ 1.24398183,  0.06626518,  0.7344413 ,  1.41982787],\n",
              "       [-0.96028458, -1.29690429, -0.4697175 , -0.17498659],\n",
              "       [ 0.6316856 ,  0.06626518,  0.96380488,  0.75532185],\n",
              "       [ 0.26430787, -0.61531956,  0.10369145,  0.09081582],\n",
              "       [ 1.61135956, -0.16092973,  1.13582757,  0.48951944],\n",
              "       [ 1.12152258,  0.2934601 ,  1.19316846,  1.41982787],\n",
              "       [ 0.6316856 , -0.61531956,  1.02114578,  1.15402546],\n",
              "       [-0.10306986,  2.1110194 , -1.50185361, -1.37109743],\n",
              "       [ 0.38676711, -1.97848903,  0.39039593,  0.35661823],\n",
              "       [ 0.6316856 , -0.84251447,  0.84912309,  0.88822305],\n",
              "       [-0.83782533, -0.84251447,  0.04635056,  0.22371703],\n",
              "       [-0.34798835, -0.84251447,  0.21837324,  0.09081582],\n",
              "       [ 0.26430787, -0.61531956,  0.50507772, -0.04208538],\n",
              "       [-0.4704476 , -1.29690429,  0.10369145,  0.09081582],\n",
              "       [-0.34798835, -0.16092973,  0.16103235,  0.09081582],\n",
              "       [-1.5725808 ,  0.74784992, -1.38717182, -1.23819622],\n",
              "       [-0.10306986, -0.84251447,  0.16103235, -0.30788779],\n",
              "       [ 0.99906334,  0.52065501,  1.07848667,  1.68563028],\n",
              "       [-0.10306986, -1.06970938,  0.10369145, -0.04208538],\n",
              "       [-0.96028458,  1.42943466, -1.32983093, -1.10529502],\n",
              "       [ 0.14184862, -0.84251447,  0.7344413 ,  0.48951944],\n",
              "       [-1.32766231, -0.16092973, -1.38717182, -1.50399863],\n",
              "       [-0.34798835, -0.16092973,  0.39039593,  0.35661823],\n",
              "       [ 0.14184862,  0.74784992,  0.39039593,  0.48951944],\n",
              "       [ 0.26430787, -0.38812464,  0.50507772,  0.22371703],\n",
              "       [-1.45012155,  0.2934601 , -1.27249003, -1.37109743],\n",
              "       [-0.59290684, -0.16092973,  0.39039593,  0.35661823],\n",
              "       [-0.96028458,  0.52065501, -1.21514914, -0.97239381],\n",
              "       [-0.22552911, -0.38812464,  0.21837324,  0.09081582],\n",
              "       [-0.59290684,  0.74784992, -1.32983093, -1.10529502],\n",
              "       [ 0.50922636,  0.52065501,  1.25050936,  1.68563028],\n",
              "       [ 0.14184862, -0.16092973,  0.56241861,  0.75532185],\n",
              "       [ 1.61135956,  0.2934601 ,  1.25050936,  0.75532185],\n",
              "       [-0.71536609,  1.42943466, -1.32983093, -1.37109743],\n",
              "       [ 0.38676711,  0.74784992,  0.90646398,  1.41982787],\n",
              "       [ 0.99906334, -0.16092973,  0.6771004 ,  0.62242064],\n",
              "       [ 2.22365578, -0.61531956,  1.65189562,  1.02112425],\n",
              "       [-0.96028458,  0.97504483, -1.38717182, -1.23819622],\n",
              "       [-0.59290684,  1.42943466, -1.32983093, -1.37109743],\n",
              "       [ 0.99906334,  0.06626518,  0.50507772,  0.35661823],\n",
              "       [-1.08274382,  1.20223975, -1.38717182, -1.37109743],\n",
              "       [ 0.50922636, -1.29690429,  0.6771004 ,  0.88822305],\n",
              "       [ 0.6316856 ,  0.2934601 ,  0.84912309,  1.41982787],\n",
              "       [ 0.99906334, -1.29690429,  1.13582757,  0.75532185],\n",
              "       [-1.20520306, -1.29690429,  0.39039593,  0.62242064],\n",
              "       [-0.59290684,  1.88382449, -1.44451272, -1.10529502],\n",
              "       [ 0.50922636,  0.52065501,  0.50507772,  0.48951944],\n",
              "       [-1.69504004, -1.75129412, -1.44451272, -1.23819622],\n",
              "       [ 0.6316856 ,  0.2934601 ,  0.39039593,  0.35661823],\n",
              "       [ 1.12152258, -0.61531956,  0.56241861,  0.22371703],\n",
              "       [-1.08274382, -2.43287886, -0.18301302, -0.30788779],\n",
              "       [ 0.99906334,  0.52065501,  1.07848667,  1.15402546],\n",
              "       [-1.08274382,  0.97504483, -1.27249003, -0.83949261],\n",
              "       [-0.22552911, -1.06970938, -0.18301302, -0.30788779],\n",
              "       [-1.20520306,  0.06626518, -1.32983093, -1.37109743],\n",
              "       [ 0.01938938, -0.16092973,  0.21837324,  0.35661823],\n",
              "       [-0.10306986, -0.61531956,  0.7344413 ,  1.55272907],\n",
              "       [ 1.24398183,  0.06626518,  0.61975951,  0.35661823],\n",
              "       [-1.08274382,  0.52065501, -1.38717182, -1.37109743],\n",
              "       [-1.32766231,  0.06626518, -1.27249003, -1.37109743],\n",
              "       [-0.96028458,  1.65662957, -1.32983093, -1.23819622],\n",
              "       [-0.34798835, -0.61531956,  0.61975951,  1.02112425],\n",
              "       [ 1.24398183,  0.2934601 ,  1.07848667,  1.41982787],\n",
              "       [-1.08274382,  0.74784992, -1.27249003, -1.10529502],\n",
              "       [-0.4704476 , -1.06970938,  0.33305503, -0.04208538],\n",
              "       [-0.34798835, -1.29690429,  0.04635056, -0.17498659],\n",
              "       [ 0.75414485, -0.61531956,  0.44773682,  0.35661823],\n",
              "       [-1.08274382, -0.16092973, -1.27249003, -1.37109743],\n",
              "       [-1.08274382,  0.97504483, -1.44451272, -1.23819622],\n",
              "       [-1.5725808 ,  1.20223975, -1.6165354 , -1.37109743],\n",
              "       [-0.4704476 ,  0.97504483, -1.44451272, -1.37109743],\n",
              "       [ 0.75414485,  0.2934601 ,  0.7344413 ,  1.02112425],\n",
              "       [-1.5725808 ,  0.2934601 , -1.38717182, -1.37109743],\n",
              "       [ 0.38676711, -0.61531956,  0.56241861,  0.75532185],\n",
              "       [-1.20520306,  0.06626518, -1.32983093, -1.50399863],\n",
              "       [-0.96028458,  0.74784992, -1.32983093, -1.37109743],\n",
              "       [-0.10306986, -0.84251447,  0.7344413 ,  0.88822305],\n",
              "       [ 2.22365578,  1.65662957,  1.65189562,  1.28692666],\n",
              "       [ 0.01938938, -0.16092973,  0.7344413 ,  0.75532185],\n",
              "       [-0.96028458,  1.65662957, -1.10046735, -1.10529502],\n",
              "       [ 1.61135956,  1.20223975,  1.30785025,  1.68563028],\n",
              "       [-0.22552911, -0.16092973,  0.21837324, -0.04208538],\n",
              "       [ 0.87660409, -0.16092973,  0.33305503,  0.22371703],\n",
              "       [ 0.75414485, -0.16092973,  1.13582757,  1.28692666],\n",
              "       [-1.20520306, -1.52409921, -0.29769481, -0.30788779],\n",
              "       [ 0.14184862, -0.38812464,  0.39039593,  0.35661823],\n",
              "       [ 0.26430787, -0.16092973,  0.44773682,  0.22371703],\n",
              "       [ 0.87660409, -0.38812464,  0.44773682,  0.09081582],\n",
              "       [-0.22552911, -1.29690429,  0.6771004 ,  1.02112425],\n",
              "       [-0.83782533,  0.74784992, -1.38717182, -1.37109743],\n",
              "       [-0.22552911, -0.61531956,  0.39039593,  0.09081582],\n",
              "       [-0.4704476 ,  2.56540922, -1.38717182, -1.37109743],\n",
              "       [ 1.36644107,  0.2934601 ,  0.50507772,  0.22371703],\n",
              "       [-1.93995853, -0.16092973, -1.55919451, -1.50399863],\n",
              "       [-0.22552911,  3.01979905, -1.32983093, -1.10529502],\n",
              "       [-1.32766231,  0.74784992, -1.27249003, -1.37109743],\n",
              "       [ 2.22365578, -0.16092973,  1.30785025,  1.41982787],\n",
              "       [-0.34798835, -0.38812464, -0.12567213,  0.09081582],\n",
              "       [-0.96028458,  1.65662957, -1.27249003, -1.37109743],\n",
              "       [-0.83782533,  0.97504483, -1.32983093, -1.37109743],\n",
              "       [ 0.14184862, -1.97848903,  0.10369145, -0.30788779],\n",
              "       [ 0.26430787, -1.06970938,  1.02114578,  0.22371703],\n",
              "       [ 1.48890031, -0.16092973,  1.19316846,  1.15402546],\n",
              "       [ 0.75414485, -0.16092973,  0.96380488,  0.75532185],\n",
              "       [ 0.75414485, -0.16092973,  0.79178219,  1.02112425],\n",
              "       [-0.22552911,  1.65662957, -1.21514914, -1.23819622],\n",
              "       [ 0.99906334,  0.06626518,  0.33305503,  0.22371703],\n",
              "       [ 0.14184862, -1.97848903,  0.6771004 ,  0.35661823],\n",
              "       [-1.08274382,  0.74784992, -1.32983093, -1.37109743],\n",
              "       [ 2.46857427,  1.65662957,  1.47987294,  1.02112425],\n",
              "       [-0.4704476 , -1.75129412,  0.10369145,  0.09081582],\n",
              "       [ 1.85627805, -0.61531956,  1.30785025,  0.88822305],\n",
              "       [ 0.99906334,  0.06626518,  1.02114578,  1.55272907],\n",
              "       [-1.32766231, -0.16092973, -1.38717182, -1.23819622],\n",
              "       [-1.20520306,  1.20223975, -1.38717182, -1.50399863]])"
            ]
          },
          "metadata": {},
          "execution_count": 57
        }
      ]
    },
    {
      "cell_type": "code",
      "source": [
        "clf=RandomForestClassifier(n_estimators=100,max_depth=6,)\n",
        "model=clf.fit(xtr,ytr)"
      ],
      "metadata": {
        "id": "EdNqxDsLX3aW"
      },
      "execution_count": 62,
      "outputs": []
    },
    {
      "cell_type": "code",
      "source": [
        "pred=model.predict(xte)"
      ],
      "metadata": {
        "id": "c-bFZ4fJX__Y"
      },
      "execution_count": 63,
      "outputs": []
    },
    {
      "cell_type": "code",
      "source": [
        "accuray=accuracy_score(yte,pred)"
      ],
      "metadata": {
        "id": "JTvuOPMhYC4e"
      },
      "execution_count": 64,
      "outputs": []
    },
    {
      "cell_type": "code",
      "source": [
        "print(accuray)"
      ],
      "metadata": {
        "colab": {
          "base_uri": "https://localhost:8080/"
        },
        "id": "eVjQjEFrYFJI",
        "outputId": "0a54e983-1e57-4ab2-99bb-64c1218deef8"
      },
      "execution_count": 65,
      "outputs": [
        {
          "output_type": "stream",
          "name": "stdout",
          "text": [
            "0.9333333333333333\n"
          ]
        }
      ]
    },
    {
      "cell_type": "code",
      "source": [
        "model.feature_importances_"
      ],
      "metadata": {
        "colab": {
          "base_uri": "https://localhost:8080/"
        },
        "id": "PANC6WUiYHE4",
        "outputId": "234748ce-f042-4562-d64f-79961cb8552e"
      },
      "execution_count": 66,
      "outputs": [
        {
          "output_type": "execute_result",
          "data": {
            "text/plain": [
              "array([0.09266914, 0.02633154, 0.36710986, 0.51388946])"
            ]
          },
          "metadata": {},
          "execution_count": 66
        }
      ]
    },
    {
      "cell_type": "code",
      "source": [
        "importances=clf.feature_importances_"
      ],
      "metadata": {
        "id": "MW1kFoXUYg5v"
      },
      "execution_count": 69,
      "outputs": []
    },
    {
      "cell_type": "code",
      "source": [
        "\n",
        "indices = np.argsort(importances)[::-1]\n",
        "\n",
        "\n",
        "names = [x.columns[i] for i in indices]\n",
        "\n",
        "# Create plot\n",
        "plt.figure(figsize=(10, 6))\n",
        "plt.title(\"Feature Importances\")\n",
        "\n",
        "plt.bar(range(len(names)), importances[indices])\n",
        "plt.xticks(range(len(names)), names, rotation=90)\n",
        "plt.xlabel(\"Features\")\n",
        "plt.ylabel(\"Importance\")\n",
        "plt.show()"
      ],
      "metadata": {
        "colab": {
          "base_uri": "https://localhost:8080/",
          "height": 638
        },
        "id": "Cw1QXf1sYjsP",
        "outputId": "e1d1adeb-6a9c-4ea6-a5fa-c2dca7c95ba5"
      },
      "execution_count": 72,
      "outputs": [
        {
          "output_type": "display_data",
          "data": {
            "text/plain": [
              "<Figure size 1000x600 with 1 Axes>"
            ],
            "image/png": "[encoded data removed]"
          },
          "metadata": {}
        }
      ]
    },
    {
      "cell_type": "code",
      "source": [],
      "metadata": {
        "id": "jE-BnBTVYp7-"
      },
      "execution_count": null,
      "outputs": []
    }
  ]
}